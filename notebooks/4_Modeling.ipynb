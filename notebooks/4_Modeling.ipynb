{
 "cells": [
  {
   "cell_type": "code",
   "execution_count": 96,
   "metadata": {},
   "outputs": [],
   "source": [
    "import pandas as pd\n",
    "import numpy as np\n",
    "\n",
    "import matplotlib.pyplot as plt\n",
    "from matplotlib.pyplot import figure\n",
    "import seaborn as sns\n",
    "from sklearn.metrics import roc_curve\n",
    "plt.style.use('ggplot')\n",
    "%matplotlib inline\n",
    "\n",
    "import warnings\n",
    "warnings.filterwarnings('ignore')\n",
    "\n",
    "from sklearn.linear_model import LogisticRegression\n",
    "from sklearn.neighbors import KNeighborsClassifier\n",
    "from sklearn.ensemble import RandomForestClassifier\n",
    "from sklearn.dummy import DummyClassifier\n",
    "import xgboost as xgb\n",
    "\n",
    "from sklearn.model_selection import GridSearchCV\n",
    "from sklearn.model_selection import RandomizedSearchCV\n",
    "\n",
    "from sklearn.metrics import accuracy_score\n",
    "from sklearn.metrics import confusion_matrix\n",
    "from sklearn.metrics import precision_score, recall_score, f1_score\n",
    "from sklearn.metrics import classification_report\n",
    "from sklearn.metrics import roc_auc_score\n",
    "from sklearn.model_selection import cross_val_score\n",
    "from sklearn.metrics import mean_absolute_error\n",
    "from sklearn.metrics import matthews_corrcoef\n",
    "from sklearn.metrics import log_loss\n",
    "\n",
    "from time import time"
   ]
  },
  {
   "cell_type": "code",
   "execution_count": 2,
   "metadata": {},
   "outputs": [],
   "source": [
    "pd.set_option(\"display.max.columns\", None)"
   ]
  },
  {
   "cell_type": "code",
   "execution_count": 3,
   "metadata": {},
   "outputs": [],
   "source": [
    "X_test = pd.read_csv('../data/X_test.csv').drop('Unnamed: 0', axis=1)\n",
    "X_train = pd.read_csv('../data/X_train.csv').drop('Unnamed: 0', axis=1)\n",
    "y_test = pd.read_csv('../data/y_test.csv').drop('Unnamed: 0', axis=1)\n",
    "y_train = pd.read_csv('../data/y_train.csv').drop('Unnamed: 0', axis=1)"
   ]
  },
  {
   "cell_type": "markdown",
   "metadata": {},
   "source": [
    "# Default model"
   ]
  },
  {
   "cell_type": "code",
   "execution_count": 4,
   "metadata": {},
   "outputs": [],
   "source": [
    "models = [LogisticRegression(), KNeighborsClassifier(), RandomForestClassifier(), \n",
    "         xgb.XGBClassifier(objective='binary:logistic'), DummyClassifier()]"
   ]
  },
  {
   "cell_type": "code",
   "execution_count": 5,
   "metadata": {},
   "outputs": [
    {
     "name": "stdout",
     "output_type": "stream",
     "text": [
      "LogisticRegression(C=1.0, class_weight=None, dual=False, fit_intercept=True,\n",
      "                   intercept_scaling=1, l1_ratio=None, max_iter=100,\n",
      "                   multi_class='auto', n_jobs=None, penalty='l2',\n",
      "                   random_state=None, solver='lbfgs', tol=0.0001, verbose=0,\n",
      "                   warm_start=False) 0.6152\n",
      "KNeighborsClassifier(algorithm='auto', leaf_size=30, metric='minkowski',\n",
      "                     metric_params=None, n_jobs=None, n_neighbors=5, p=2,\n",
      "                     weights='uniform') 0.54\n",
      "RandomForestClassifier(bootstrap=True, ccp_alpha=0.0, class_weight=None,\n",
      "                       criterion='gini', max_depth=None, max_features='auto',\n",
      "                       max_leaf_nodes=None, max_samples=None,\n",
      "                       min_impurity_decrease=0.0, min_impurity_split=None,\n",
      "                       min_samples_leaf=1, min_samples_split=2,\n",
      "                       min_weight_fraction_leaf=0.0, n_estimators=100,\n",
      "                       n_jobs=None, oob_score=False, random_state=None,\n",
      "                       verbose=0, warm_start=False) 0.616\n",
      "XGBClassifier(base_score=0.5, booster='gbtree', colsample_bylevel=1,\n",
      "              colsample_bynode=1, colsample_bytree=1, gamma=0, gpu_id=-1,\n",
      "              importance_type='gain', interaction_constraints='',\n",
      "              learning_rate=0.300000012, max_delta_step=0, max_depth=6,\n",
      "              min_child_weight=1, missing=nan, monotone_constraints='()',\n",
      "              n_estimators=100, n_jobs=0, num_parallel_tree=1,\n",
      "              objective='binary:logistic', random_state=0, reg_alpha=0,\n",
      "              reg_lambda=1, scale_pos_weight=1, subsample=1,\n",
      "              tree_method='exact', validate_parameters=1, verbosity=None) 0.6202\n",
      "DummyClassifier(constant=None, random_state=None, strategy='warn') 0.5016\n"
     ]
    }
   ],
   "source": [
    "default_scores = []\n",
    "\n",
    "for model in models:\n",
    "    model.fit(X_train, y_train)\n",
    "    score = model.score(X_test, y_test)\n",
    "    default_scores.append(score)\n",
    "    print(str(model), score)"
   ]
  },
  {
   "cell_type": "code",
   "execution_count": 6,
   "metadata": {},
   "outputs": [],
   "source": [
    "model_names = ['LR', 'KNN', 'RFC', 'XGB', 'Dummy']"
   ]
  },
  {
   "cell_type": "code",
   "execution_count": 7,
   "metadata": {},
   "outputs": [
    {
     "data": {
      "text/plain": [
       "[0.6152, 0.54, 0.616, 0.6202, 0.5016]"
      ]
     },
     "execution_count": 7,
     "metadata": {},
     "output_type": "execute_result"
    }
   ],
   "source": [
    "default_scores"
   ]
  },
  {
   "cell_type": "code",
   "execution_count": 8,
   "metadata": {},
   "outputs": [
    {
     "data": {
      "image/png": "[encoded data removed]",
      "text/plain": [
       "<Figure size 432x288 with 1 Axes>"
      ]
     },
     "metadata": {
      "needs_background": "light"
     },
     "output_type": "display_data"
    }
   ],
   "source": [
    "_ = plt.bar(model_names, default_scores)\n",
    "_ = plt.title('Default Model Scores')\n",
    "_ = plt.ylabel('Score')\n",
    "_ = plt.xlabel('Models')\n",
    "plt.show()"
   ]
  },
  {
   "cell_type": "code",
   "execution_count": 9,
   "metadata": {},
   "outputs": [],
   "source": [
    "logreg = LogisticRegression(random_state=123)\n",
    "\n",
    "logreg.fit(X_train, y_train)\n",
    "\n",
    "pred_lr = logreg.predict(X_test)"
   ]
  },
  {
   "cell_type": "code",
   "execution_count": 10,
   "metadata": {},
   "outputs": [],
   "source": [
    "knn = KNeighborsClassifier()\n",
    "\n",
    "knn.fit(X_train, y_train)\n",
    "\n",
    "pred_knn = knn.predict(X_test)"
   ]
  },
  {
   "cell_type": "code",
   "execution_count": 11,
   "metadata": {},
   "outputs": [],
   "source": [
    "xgbcl = xgb.XGBClassifier(objective='binary:logistic', seed=123)\n",
    "\n",
    "xgbcl.fit(X_train, y_train)\n",
    "\n",
    "pred_xgb = xgbcl.predict(X_test)"
   ]
  },
  {
   "cell_type": "code",
   "execution_count": 12,
   "metadata": {},
   "outputs": [],
   "source": [
    "rfc = RandomForestClassifier(random_state=123)\n",
    "\n",
    "rfc.fit(X_train, y_train)\n",
    "\n",
    "pred_rfc = rfc.predict(X_test)"
   ]
  },
  {
   "cell_type": "markdown",
   "metadata": {},
   "source": [
    "# Logistic Regression"
   ]
  },
  {
   "cell_type": "code",
   "execution_count": 19,
   "metadata": {},
   "outputs": [
    {
     "name": "stdout",
     "output_type": "stream",
     "text": [
      "LR precision score = 0.6147859922178989\n",
      "LR recall score = 0.4161545215100966\n",
      "LR F1 score = 0.49633507853403136\n"
     ]
    }
   ],
   "source": [
    "print('LR precision score = {}'.format(precision_score(y_test, pred_lr)))\n",
    "print('LR recall score = {}'.format(recall_score(y_test, pred_lr)))\n",
    "print('LR F1 score = {}'.format(f1_score(y_test, pred_lr)))"
   ]
  },
  {
   "cell_type": "code",
   "execution_count": 21,
   "metadata": {},
   "outputs": [
    {
     "data": {
      "text/plain": [
       "array([[2128, 1330],\n",
       "       [ 594,  948]])"
      ]
     },
     "execution_count": 21,
     "metadata": {},
     "output_type": "execute_result"
    }
   ],
   "source": [
    "confusion_matrix(pred_lr, y_test)"
   ]
  },
  {
   "cell_type": "code",
   "execution_count": 13,
   "metadata": {},
   "outputs": [
    {
     "name": "stdout",
     "output_type": "stream",
     "text": [
      "68.62134122848511 seconds to run\n"
     ]
    }
   ],
   "source": [
    "start = time()\n",
    "\n",
    "c_space = [0.01,0.1,1,10,100]\n",
    "multi_class = ['auto', 'ovr', 'multinomial']\n",
    "max_iter = [1,10,100,200]\n",
    "\n",
    "params = {'C': c_space, \n",
    "          'multi_class':multi_class,\n",
    "          'max_iter':max_iter\n",
    "         }\n",
    "\n",
    "lr_gs = GridSearchCV(logreg, param_grid=params, cv=5)\n",
    "\n",
    "lr_gs.fit(X_train, y_train)\n",
    "\n",
    "stop = time()\n",
    "\n",
    "total_time = stop - start\n",
    "\n",
    "print(total_time, 'seconds to run')"
   ]
  },
  {
   "cell_type": "code",
   "execution_count": 14,
   "metadata": {},
   "outputs": [
    {
     "data": {
      "text/plain": [
       "{'C': 100, 'max_iter': 200, 'multi_class': 'auto'}"
      ]
     },
     "execution_count": 14,
     "metadata": {},
     "output_type": "execute_result"
    }
   ],
   "source": [
    "lr_gs.best_params_"
   ]
  },
  {
   "cell_type": "code",
   "execution_count": 15,
   "metadata": {},
   "outputs": [
    {
     "data": {
      "text/plain": [
       "0.6245999999999999"
      ]
     },
     "execution_count": 15,
     "metadata": {},
     "output_type": "execute_result"
    }
   ],
   "source": [
    "lr_gs.best_score_"
   ]
  },
  {
   "cell_type": "code",
   "execution_count": 16,
   "metadata": {},
   "outputs": [],
   "source": [
    "pred_lrgs = lr_gs.predict(X_test) "
   ]
  },
  {
   "cell_type": "code",
   "execution_count": 22,
   "metadata": {},
   "outputs": [
    {
     "data": {
      "text/plain": [
       "array([[2140, 1345],\n",
       "       [ 582,  933]])"
      ]
     },
     "execution_count": 22,
     "metadata": {},
     "output_type": "execute_result"
    }
   ],
   "source": [
    "confusion_matrix(pred_lrgs, y_test)"
   ]
  },
  {
   "cell_type": "code",
   "execution_count": 23,
   "metadata": {},
   "outputs": [
    {
     "name": "stdout",
     "output_type": "stream",
     "text": [
      "Grid search logistic regression precision score = 0.6158415841584158\n",
      "Grid search logistic regression recall score= 0.40956979806848115\n",
      "Grid search logistic regression F1 score = 0.4919588716055893\n"
     ]
    }
   ],
   "source": [
    "print('Grid search LR precision score = {}'.format(precision_score(y_test, pred_lrgs)))\n",
    "print('Grid search LR recall score= {}'.format(recall_score(y_test, pred_lrgs)))\n",
    "print('Grid search LR F1 score = {}'.format(f1_score(y_test, pred_lrgs)))"
   ]
  },
  {
   "cell_type": "code",
   "execution_count": 25,
   "metadata": {},
   "outputs": [
    {
     "data": {
      "text/plain": [
       "LogisticRegression(C=100, class_weight=None, dual=False, fit_intercept=True,\n",
       "                   intercept_scaling=1, l1_ratio=None, max_iter=200,\n",
       "                   multi_class='auto', n_jobs=None, penalty='l2',\n",
       "                   random_state=None, solver='lbfgs', tol=0.0001, verbose=0,\n",
       "                   warm_start=False)"
      ]
     },
     "execution_count": 25,
     "metadata": {},
     "output_type": "execute_result"
    }
   ],
   "source": [
    "test = LogisticRegression(C=lr_gs.best_params_['C'], max_iter=lr_gs.best_params_['max_iter'],\n",
    "                          multi_class=lr_gs.best_params_['multi_class'])\n",
    "test.fit(X_train, y_train)"
   ]
  },
  {
   "cell_type": "code",
   "execution_count": 26,
   "metadata": {},
   "outputs": [
    {
     "data": {
      "text/plain": [
       "0.6146"
      ]
     },
     "execution_count": 26,
     "metadata": {},
     "output_type": "execute_result"
    }
   ],
   "source": [
    "test.score(X_test, y_test)"
   ]
  },
  {
   "cell_type": "code",
   "execution_count": 28,
   "metadata": {},
   "outputs": [
    {
     "name": "stdout",
     "output_type": "stream",
     "text": [
      "              precision    recall  f1-score   support\n",
      "\n",
      "         0.0       0.61      0.79      0.69      2722\n",
      "         1.0       0.62      0.41      0.49      2278\n",
      "\n",
      "    accuracy                           0.61      5000\n",
      "   macro avg       0.61      0.60      0.59      5000\n",
      "weighted avg       0.61      0.61      0.60      5000\n",
      "\n"
     ]
    }
   ],
   "source": [
    "print(classification_report(y_test, pred_lrgs))"
   ]
  },
  {
   "cell_type": "code",
   "execution_count": 83,
   "metadata": {},
   "outputs": [],
   "source": [
    "prob_lr = logreg.predict_proba(X_test)"
   ]
  },
  {
   "cell_type": "code",
   "execution_count": 80,
   "metadata": {},
   "outputs": [
    {
     "name": "stdout",
     "output_type": "stream",
     "text": [
      "log loss is equal to 0.6472235399153582\n"
     ]
    }
   ],
   "source": [
    "prob_lr_gs = lr_gs.predict_proba(X_test)\n",
    "\n",
    "print('log loss is equal to', log_loss(y_test, prob_lr_gs))"
   ]
  },
  {
   "cell_type": "markdown",
   "metadata": {},
   "source": [
    "# K Nearest Neighbors"
   ]
  },
  {
   "cell_type": "code",
   "execution_count": 32,
   "metadata": {},
   "outputs": [
    {
     "name": "stdout",
     "output_type": "stream",
     "text": [
      "KNN precision score = 0.4951627088830255\n",
      "KNN recall score = 0.4942932396839333\n",
      "KNN F1 score = 0.49472759226713536\n"
     ]
    }
   ],
   "source": [
    "print('KNN precision score = {}'.format(precision_score(y_test, pred_knn)))\n",
    "print('KNN recall score = {}'.format(recall_score(y_test, pred_knn)))\n",
    "print('KNN F1 score = {}'.format(f1_score(y_test, pred_knn)))"
   ]
  },
  {
   "cell_type": "code",
   "execution_count": 33,
   "metadata": {},
   "outputs": [
    {
     "data": {
      "text/plain": [
       "array([[1574, 1152],\n",
       "       [1148, 1126]])"
      ]
     },
     "execution_count": 33,
     "metadata": {},
     "output_type": "execute_result"
    }
   ],
   "source": [
    "confusion_matrix(pred_knn, y_test)"
   ]
  },
  {
   "cell_type": "code",
   "execution_count": 34,
   "metadata": {},
   "outputs": [
    {
     "name": "stdout",
     "output_type": "stream",
     "text": [
      "For 1 neighbor/s the score is: 0.5264\n",
      "For 16 neighbor/s the score is: 0.5602\n",
      "For 31 neighbor/s the score is: 0.5654\n",
      "For 46 neighbor/s the score is: 0.5768\n",
      "For 61 neighbor/s the score is: 0.574\n",
      "For 76 neighbor/s the score is: 0.5684\n",
      "For 91 neighbor/s the score is: 0.5632\n",
      "For 106 neighbor/s the score is: 0.5668\n",
      "For 121 neighbor/s the score is: 0.5704\n",
      "For 136 neighbor/s the score is: 0.5746\n",
      "For 151 neighbor/s the score is: 0.5796\n",
      "For 166 neighbor/s the score is: 0.5766\n",
      "For 181 neighbor/s the score is: 0.5756\n",
      "For 196 neighbor/s the score is: 0.5672\n",
      "390.47 seconds to run\n"
     ]
    }
   ],
   "source": [
    "start=time()\n",
    "\n",
    "scores = []\n",
    "\n",
    "for n in range(1,202, 15):\n",
    "    knn_ = KNeighborsClassifier(n_neighbors=n)\n",
    "    \n",
    "    knn_.fit(X_train, y_train)\n",
    "    \n",
    "    score = knn_.score(X_test, y_test)\n",
    "    \n",
    "    scores.append(knn_.score(X_test, y_test))\n",
    "    \n",
    "    print('For {} neighbor/s the score is: {}'.format(n, score))\n",
    "    \n",
    "stop = time()\n",
    "\n",
    "total_time = (stop - start)\n",
    "\n",
    "print(round(total_time, 2), 'seconds to run')"
   ]
  },
  {
   "cell_type": "code",
   "execution_count": 36,
   "metadata": {},
   "outputs": [
    {
     "data": {
      "image/png": "[encoded data removed]",
      "text/plain": [
       "<Figure size 432x288 with 1 Axes>"
      ]
     },
     "metadata": {
      "needs_background": "light"
     },
     "output_type": "display_data"
    }
   ],
   "source": [
    "_ = plt.scatter(range(1,202, 15), scores)\n",
    "_ = plt.label('K Nearest Neighbors')\n",
    "_ = plt.xlabel('k value')\n",
    "_ = plt.ylabel('score')\n",
    "\n",
    "plt.show()"
   ]
  },
  {
   "cell_type": "code",
   "execution_count": 39,
   "metadata": {},
   "outputs": [],
   "source": [
    "mod_knn = KNeighborsClassifier(n_neighbors=151)\n",
    "\n",
    "mod_knn.fit(X_train, y_train)\n",
    "\n",
    "pred_mod_knn = knn.predict(X_test)"
   ]
  },
  {
   "cell_type": "code",
   "execution_count": 40,
   "metadata": {},
   "outputs": [
    {
     "name": "stdout",
     "output_type": "stream",
     "text": [
      "Mod KNN precision score = 0.4951627088830255\n",
      "Mod KNN recall score = 0.4942932396839333\n",
      "Mod KNN F1 score = 0.49472759226713536\n"
     ]
    }
   ],
   "source": [
    "print('Mod KNN precision score = {}'.format(precision_score(y_test, pred_mod_knn)))\n",
    "print('Mod KNN recall score = {}'.format(recall_score(y_test, pred_mod_knn)))\n",
    "print('Mod KNN F1 score = {}'.format(f1_score(y_test, pred_mod_knn)))"
   ]
  },
  {
   "cell_type": "code",
   "execution_count": 41,
   "metadata": {},
   "outputs": [
    {
     "data": {
      "text/plain": [
       "array([[1574, 1152],\n",
       "       [1148, 1126]])"
      ]
     },
     "execution_count": 41,
     "metadata": {},
     "output_type": "execute_result"
    }
   ],
   "source": [
    "confusion_matrix(pred_mod_knn, y_test)"
   ]
  },
  {
   "cell_type": "code",
   "execution_count": 42,
   "metadata": {},
   "outputs": [
    {
     "name": "stdout",
     "output_type": "stream",
     "text": [
      "              precision    recall  f1-score   support\n",
      "\n",
      "         0.0       0.58      0.58      0.58      2722\n",
      "         1.0       0.50      0.49      0.49      2278\n",
      "\n",
      "    accuracy                           0.54      5000\n",
      "   macro avg       0.54      0.54      0.54      5000\n",
      "weighted avg       0.54      0.54      0.54      5000\n",
      "\n"
     ]
    }
   ],
   "source": [
    "print(classification_report(y_test, pred_mod_knn))"
   ]
  },
  {
   "cell_type": "code",
   "execution_count": 84,
   "metadata": {},
   "outputs": [],
   "source": [
    "prob_knn = knn.predict_proba(X_test)"
   ]
  },
  {
   "cell_type": "code",
   "execution_count": 79,
   "metadata": {},
   "outputs": [
    {
     "name": "stdout",
     "output_type": "stream",
     "text": [
      "log loss is equal to 0.6764010336601752\n"
     ]
    }
   ],
   "source": [
    "prob_knn_mod = mod_knn.predict_proba(X_test)\n",
    "\n",
    "print('log loss is equal to', log_loss(y_test, prob_knn_mod))"
   ]
  },
  {
   "cell_type": "markdown",
   "metadata": {},
   "source": [
    "# Random Forest Classifier"
   ]
  },
  {
   "cell_type": "code",
   "execution_count": 45,
   "metadata": {},
   "outputs": [
    {
     "name": "stdout",
     "output_type": "stream",
     "text": [
      "RFC precision = 0.5925315760571115\n",
      "RFC recall = 0.4736611062335382\n",
      "RFC F1 score = 0.5264698707001707\n"
     ]
    }
   ],
   "source": [
    "print('RFC precision = {}'.format(precision_score(y_test, pred_rfc)))\n",
    "print('RFC recall = {}'.format(recall_score(y_test, pred_rfc)))\n",
    "print('RFC F1 score = {}'.format(f1_score(y_test, pred_rfc)))"
   ]
  },
  {
   "cell_type": "code",
   "execution_count": 46,
   "metadata": {},
   "outputs": [
    {
     "data": {
      "text/plain": [
       "array([[1980, 1199],\n",
       "       [ 742, 1079]])"
      ]
     },
     "execution_count": 46,
     "metadata": {},
     "output_type": "execute_result"
    }
   ],
   "source": [
    "confusion_matrix(pred_rfc, y_test)"
   ]
  },
  {
   "cell_type": "code",
   "execution_count": 48,
   "metadata": {},
   "outputs": [
    {
     "name": "stdout",
     "output_type": "stream",
     "text": [
      "188.05 seconds to run\n"
     ]
    }
   ],
   "source": [
    "start = time()\n",
    "\n",
    "params = {'n_estimators':[10, 100, 1000],\n",
    "        'criterion': ['gini', 'entropy'], \n",
    "        'max_depth':[None, 10, 20] \n",
    "         }\n",
    "\n",
    "GridSearchCV(rfc, param_grid=params)\n",
    "\n",
    "rfc_gs = GridSearchCV(rfc, param_grid=params, cv=5)\n",
    "\n",
    "rfc_gs.fit(X_test, y_test)\n",
    "\n",
    "stop = time()\n",
    "\n",
    "total_time = stop - start\n",
    "\n",
    "print(round(total_time, 2), 'seconds to run')"
   ]
  },
  {
   "cell_type": "code",
   "execution_count": 49,
   "metadata": {},
   "outputs": [],
   "source": [
    "pred_rfcgs = rfc_cv.predict(X_test)"
   ]
  },
  {
   "cell_type": "code",
   "execution_count": 50,
   "metadata": {},
   "outputs": [
    {
     "data": {
      "text/plain": [
       "{'criterion': 'gini', 'max_depth': 10, 'n_estimators': 1000}"
      ]
     },
     "execution_count": 50,
     "metadata": {},
     "output_type": "execute_result"
    }
   ],
   "source": [
    "rfc_gs.best_params_"
   ]
  },
  {
   "cell_type": "code",
   "execution_count": 51,
   "metadata": {},
   "outputs": [
    {
     "data": {
      "text/plain": [
       "0.6294000000000001"
      ]
     },
     "execution_count": 51,
     "metadata": {},
     "output_type": "execute_result"
    }
   ],
   "source": [
    "rfc_gs.best_score_"
   ]
  },
  {
   "cell_type": "code",
   "execution_count": 52,
   "metadata": {},
   "outputs": [
    {
     "name": "stdout",
     "output_type": "stream",
     "text": [
      "RFC rrecision = 0.832269297736506\n",
      "RFC recall = 0.6294995610184372\n",
      "RFC F1 score = 0.7168207948012995\n"
     ]
    }
   ],
   "source": [
    "print('RFC rrecision = {}'.format(precision_score(y_test, pred_rfcgs)))\n",
    "print('RFC recall = {}'.format(recall_score(y_test, pred_rfcgs)))\n",
    "print('RFC F1 score = {}'.format(f1_score(y_test, pred_rfcgs)))"
   ]
  },
  {
   "cell_type": "code",
   "execution_count": 53,
   "metadata": {},
   "outputs": [
    {
     "data": {
      "text/plain": [
       "array([[2433,  844],\n",
       "       [ 289, 1434]])"
      ]
     },
     "execution_count": 53,
     "metadata": {},
     "output_type": "execute_result"
    }
   ],
   "source": [
    "confusion_matrix(pred_rfcgs, y_test)"
   ]
  },
  {
   "cell_type": "code",
   "execution_count": 54,
   "metadata": {},
   "outputs": [
    {
     "data": {
      "text/plain": [
       "array([[0.74244736, 0.25755264],\n",
       "       [0.1677307 , 0.8322693 ]])"
      ]
     },
     "execution_count": 54,
     "metadata": {},
     "output_type": "execute_result"
    }
   ],
   "source": [
    "confusion_matrix(pred_rfcgs, y_test, normalize='true')"
   ]
  },
  {
   "cell_type": "code",
   "execution_count": 55,
   "metadata": {},
   "outputs": [
    {
     "name": "stdout",
     "output_type": "stream",
     "text": [
      "              precision    recall  f1-score   support\n",
      "\n",
      "         0.0       0.74      0.89      0.81      2722\n",
      "         1.0       0.83      0.63      0.72      2278\n",
      "\n",
      "    accuracy                           0.77      5000\n",
      "   macro avg       0.79      0.76      0.76      5000\n",
      "weighted avg       0.78      0.77      0.77      5000\n",
      "\n"
     ]
    }
   ],
   "source": [
    "print(classification_report(y_test, pred_rfcgs))"
   ]
  },
  {
   "cell_type": "code",
   "execution_count": 85,
   "metadata": {},
   "outputs": [],
   "source": [
    "prob_rfc = rfc.predict_proba(X_test)"
   ]
  },
  {
   "cell_type": "code",
   "execution_count": 77,
   "metadata": {},
   "outputs": [
    {
     "name": "stdout",
     "output_type": "stream",
     "text": [
      "log loss is equal to 0.5448750800796693\n"
     ]
    }
   ],
   "source": [
    "prob_rfc_gs = rfc_gs.predict_proba(X_test)\n",
    "\n",
    "print('log loss is equal to', log_loss(y_test, prob_rfc_gs))"
   ]
  },
  {
   "cell_type": "markdown",
   "metadata": {},
   "source": [
    "# XGBoost"
   ]
  },
  {
   "cell_type": "code",
   "execution_count": 63,
   "metadata": {},
   "outputs": [
    {
     "name": "stdout",
     "output_type": "stream",
     "text": [
      "XGB precision = 0.5968318855390904\n",
      "XGB recall = 0.5127304653204565\n",
      "XGB F1 score = 0.5515938606847698\n"
     ]
    }
   ],
   "source": [
    "print('XGB precision = {}'.format(precision_score(y_test, pred_xgb)))\n",
    "print('XGB recall = {}'.format(recall_score(y_test, pred_xgb)))\n",
    "print('XGB F1 score = {}'.format(f1_score(y_test, pred_xgb)))"
   ]
  },
  {
   "cell_type": "code",
   "execution_count": 58,
   "metadata": {},
   "outputs": [
    {
     "data": {
      "text/plain": [
       "array([[1933, 1110],\n",
       "       [ 789, 1168]])"
      ]
     },
     "execution_count": 58,
     "metadata": {},
     "output_type": "execute_result"
    }
   ],
   "source": [
    "confusion_matrix(pred_xgb, y_test)"
   ]
  },
  {
   "cell_type": "code",
   "execution_count": 59,
   "metadata": {},
   "outputs": [
    {
     "name": "stdout",
     "output_type": "stream",
     "text": [
      "43.035892963409424 seconds to run\n"
     ]
    }
   ],
   "source": [
    "start = time()\n",
    "\n",
    "n_estimators = [1, 5, 10, 20, 30, 50]\n",
    "max_depth = [1, 3, 10, None]\n",
    "\n",
    "params = {'n_estimators': n_estimators,\n",
    "          'max_depth':max_depth\n",
    "         }\n",
    "\n",
    "xgb_gs = GridSearchCV(xgbcl, param_grid=params, cv=5)\n",
    "\n",
    "xgb_gs.fit(X_train, y_train)\n",
    "\n",
    "stop = time()\n",
    "\n",
    "total_time = stop - start\n",
    "\n",
    "print(total_time, 'seconds to run')"
   ]
  },
  {
   "cell_type": "code",
   "execution_count": 66,
   "metadata": {},
   "outputs": [],
   "source": [
    "pred_xgbgs = xgb_gs.predict(X_test)"
   ]
  },
  {
   "cell_type": "code",
   "execution_count": 61,
   "metadata": {},
   "outputs": [
    {
     "data": {
      "text/plain": [
       "{'max_depth': None, 'n_estimators': 20}"
      ]
     },
     "execution_count": 61,
     "metadata": {},
     "output_type": "execute_result"
    }
   ],
   "source": [
    "xgb_gs.best_params_"
   ]
  },
  {
   "cell_type": "code",
   "execution_count": 62,
   "metadata": {},
   "outputs": [
    {
     "data": {
      "text/plain": [
       "0.6306"
      ]
     },
     "execution_count": 62,
     "metadata": {},
     "output_type": "execute_result"
    }
   ],
   "source": [
    "xgb_gs.best_score_"
   ]
  },
  {
   "cell_type": "code",
   "execution_count": 67,
   "metadata": {},
   "outputs": [
    {
     "name": "stdout",
     "output_type": "stream",
     "text": [
      "Grid search XGB precision = 0.6170454545454546\n",
      "Grid search XGB recall = 0.47673397717295873\n",
      "Grid search XGB F1 score = 0.537890044576523\n"
     ]
    }
   ],
   "source": [
    "print('Grid search XGB precision = {}'.format(precision_score(y_test, pred_xgbgs)))\n",
    "print('Grid search XGB recall = {}'.format(recall_score(y_test, pred_xgbgs)))\n",
    "print('Grid search XGB F1 score = {}'.format(f1_score(y_test, pred_xgbgs)))"
   ]
  },
  {
   "cell_type": "code",
   "execution_count": 68,
   "metadata": {},
   "outputs": [
    {
     "data": {
      "text/plain": [
       "array([[2048, 1192],\n",
       "       [ 674, 1086]])"
      ]
     },
     "execution_count": 68,
     "metadata": {},
     "output_type": "execute_result"
    }
   ],
   "source": [
    "confusion_matrix(pred_xgbgs, y_test)"
   ]
  },
  {
   "cell_type": "code",
   "execution_count": 70,
   "metadata": {},
   "outputs": [
    {
     "name": "stdout",
     "output_type": "stream",
     "text": [
      "              precision    recall  f1-score   support\n",
      "\n",
      "         0.0       0.63      0.75      0.69      2722\n",
      "         1.0       0.62      0.48      0.54      2278\n",
      "\n",
      "    accuracy                           0.63      5000\n",
      "   macro avg       0.62      0.61      0.61      5000\n",
      "weighted avg       0.63      0.63      0.62      5000\n",
      "\n"
     ]
    }
   ],
   "source": [
    "print(classification_report(y_test, pred_xgbgs))"
   ]
  },
  {
   "cell_type": "code",
   "execution_count": 91,
   "metadata": {},
   "outputs": [],
   "source": [
    "prob_xgbcl = xgbcl.predict_proba(X_test)"
   ]
  },
  {
   "cell_type": "code",
   "execution_count": 81,
   "metadata": {},
   "outputs": [
    {
     "name": "stdout",
     "output_type": "stream",
     "text": [
      "log loss is equal to 0.6460709331035615\n"
     ]
    }
   ],
   "source": [
    "prob_xgb_gs = xgb_gs.predict_proba(X_test)\n",
    "\n",
    "print('log loss is equal to', log_loss(y_test, prob_xgb_gs))"
   ]
  },
  {
   "cell_type": "code",
   "execution_count": 89,
   "metadata": {},
   "outputs": [
    {
     "data": {
      "text/plain": [
       "(5000, 2)"
      ]
     },
     "execution_count": 89,
     "metadata": {},
     "output_type": "execute_result"
    }
   ],
   "source": [
    "prob_lr.shape"
   ]
  },
  {
   "cell_type": "markdown",
   "metadata": {},
   "source": [
    "# Visualizing Models"
   ]
  },
  {
   "cell_type": "code",
   "execution_count": 92,
   "metadata": {},
   "outputs": [],
   "source": [
    "fpr1, tpr1, thresholds1 = roc_curve(y_test, prob_lr[:,1])\n",
    "fpr2, tpr2, thresholds2 = roc_curve(y_test, prob_knn[:,1])\n",
    "fpr3, tpr3, thresholds3 = roc_curve(y_test, prob_rfc[:,1])\n",
    "fpr4, tpr4, thresholds4 = roc_curve(y_test, prob_xgbcl[:,1])\n",
    "fpr5, tpr5, thresholds5 = roc_curve(y_test, prob_lr_gs[:,1])\n",
    "fpr6, tpr6, thresholds6 = roc_curve(y_test, prob_knn_mod[:,1])\n",
    "fpr7, tpr7, thresholds7 = roc_curve(y_test, prob_rfc_gs[:,1])\n",
    "fpr8, tpr8, thresholds8 = roc_curve(y_test, prob_xgb_gs[:,1])"
   ]
  },
  {
   "cell_type": "code",
   "execution_count": 105,
   "metadata": {},
   "outputs": [
    {
     "data": {
      "image/png": "[encoded data removed]",
      "text/plain": [
       "<Figure size 1120x800 with 1 Axes>"
      ]
     },
     "metadata": {},
     "output_type": "display_data"
    }
   ],
   "source": [
    "_ = figure(figsize=(14, 10), dpi=80, facecolor='w', edgecolor='k')\n",
    "_ = plt.plot([0,1], [0,1], 'k--')\n",
    "_ = plt.plot(fpr1, tpr1, label='LR')\n",
    "_ = plt.plot(fpr2, tpr2, label='KNN')\n",
    "_ = plt.plot(fpr3, tpr3, label='RFC')\n",
    "_ = plt.plot(fpr4, tpr4, label='XGB')\n",
    "_ = plt.plot(fpr5, tpr5, label='GS LR')\n",
    "_ = plt.plot(fpr6, tpr6, label='MOD KNN')\n",
    "_ = plt.plot(fpr7, tpr7, label='GS RFC')\n",
    "_ = plt.plot(fpr8, tpr8, label='GS XGB')\n",
    "_ = plt.xlabel('False Positive Rate')\n",
    "_ = plt.ylabel('True Positive Rate')\n",
    "_ = plt.title('ROC Curve')\n",
    "_ = plt.legend()\n",
    "\n",
    "plt.savefig('../figures/ModelROCCurve.png')"
   ]
  },
  {
   "cell_type": "code",
   "execution_count": 107,
   "metadata": {},
   "outputs": [
    {
     "data": {
      "text/plain": [
       "RandomForestClassifier(bootstrap=True, ccp_alpha=0.0, class_weight=None,\n",
       "                       criterion='gini', max_depth=10, max_features='auto',\n",
       "                       max_leaf_nodes=None, max_samples=None,\n",
       "                       min_impurity_decrease=0.0, min_impurity_split=None,\n",
       "                       min_samples_leaf=1, min_samples_split=2,\n",
       "                       min_weight_fraction_leaf=0.0, n_estimators=1000,\n",
       "                       n_jobs=None, oob_score=False, random_state=123,\n",
       "                       verbose=0, warm_start=False)"
      ]
     },
     "execution_count": 107,
     "metadata": {},
     "output_type": "execute_result"
    }
   ],
   "source": [
    "rfc_gs.best_estimator_"
   ]
  },
  {
   "cell_type": "code",
   "execution_count": 108,
   "metadata": {},
   "outputs": [
    {
     "data": {
      "text/plain": [
       "{'mean_fit_time': array([0.06298246, 0.60997744, 5.90931277, 0.04352641, 0.37236524,\n",
       "        3.58595119, 0.06009402, 0.53226314, 5.53029108, 0.07910705,\n",
       "        0.71114187, 6.72728596, 0.05080194, 0.40283456, 3.8406004 ,\n",
       "        0.0666358 , 0.61935673, 5.49444489]),\n",
       " 'std_fit_time': array([0.00469863, 0.04359466, 0.33335309, 0.00187777, 0.01603594,\n",
       "        0.12102001, 0.00451419, 0.00942707, 0.25800211, 0.00336611,\n",
       "        0.05023464, 0.30214928, 0.0019564 , 0.02170451, 0.05846149,\n",
       "        0.0068268 , 0.02696879, 0.16278352]),\n",
       " 'mean_score_time': array([0.00501451, 0.03629117, 0.35517488, 0.00454144, 0.02607694,\n",
       "        0.22292304, 0.00489149, 0.03156867, 0.31359072, 0.00609956,\n",
       "        0.03792219, 0.34899569, 0.00478067, 0.02583432, 0.25604424,\n",
       "        0.00484781, 0.03160367, 0.28487959]),\n",
       " 'std_score_time': array([0.00035282, 0.00256924, 0.06828939, 0.00071138, 0.00212599,\n",
       "        0.00530814, 0.00027144, 0.00180666, 0.02249668, 0.00066053,\n",
       "        0.00141114, 0.02281183, 0.00049004, 0.00342953, 0.05426941,\n",
       "        0.00049545, 0.00197706, 0.00218692]),\n",
       " 'param_criterion': masked_array(data=['gini', 'gini', 'gini', 'gini', 'gini', 'gini', 'gini',\n",
       "                    'gini', 'gini', 'entropy', 'entropy', 'entropy',\n",
       "                    'entropy', 'entropy', 'entropy', 'entropy', 'entropy',\n",
       "                    'entropy'],\n",
       "              mask=[False, False, False, False, False, False, False, False,\n",
       "                    False, False, False, False, False, False, False, False,\n",
       "                    False, False],\n",
       "        fill_value='?',\n",
       "             dtype=object),\n",
       " 'param_max_depth': masked_array(data=[None, None, None, 10, 10, 10, 20, 20, 20, None, None,\n",
       "                    None, 10, 10, 10, 20, 20, 20],\n",
       "              mask=[False, False, False, False, False, False, False, False,\n",
       "                    False, False, False, False, False, False, False, False,\n",
       "                    False, False],\n",
       "        fill_value='?',\n",
       "             dtype=object),\n",
       " 'param_n_estimators': masked_array(data=[10, 100, 1000, 10, 100, 1000, 10, 100, 1000, 10, 100,\n",
       "                    1000, 10, 100, 1000, 10, 100, 1000],\n",
       "              mask=[False, False, False, False, False, False, False, False,\n",
       "                    False, False, False, False, False, False, False, False,\n",
       "                    False, False],\n",
       "        fill_value='?',\n",
       "             dtype=object),\n",
       " 'params': [{'criterion': 'gini', 'max_depth': None, 'n_estimators': 10},\n",
       "  {'criterion': 'gini', 'max_depth': None, 'n_estimators': 100},\n",
       "  {'criterion': 'gini', 'max_depth': None, 'n_estimators': 1000},\n",
       "  {'criterion': 'gini', 'max_depth': 10, 'n_estimators': 10},\n",
       "  {'criterion': 'gini', 'max_depth': 10, 'n_estimators': 100},\n",
       "  {'criterion': 'gini', 'max_depth': 10, 'n_estimators': 1000},\n",
       "  {'criterion': 'gini', 'max_depth': 20, 'n_estimators': 10},\n",
       "  {'criterion': 'gini', 'max_depth': 20, 'n_estimators': 100},\n",
       "  {'criterion': 'gini', 'max_depth': 20, 'n_estimators': 1000},\n",
       "  {'criterion': 'entropy', 'max_depth': None, 'n_estimators': 10},\n",
       "  {'criterion': 'entropy', 'max_depth': None, 'n_estimators': 100},\n",
       "  {'criterion': 'entropy', 'max_depth': None, 'n_estimators': 1000},\n",
       "  {'criterion': 'entropy', 'max_depth': 10, 'n_estimators': 10},\n",
       "  {'criterion': 'entropy', 'max_depth': 10, 'n_estimators': 100},\n",
       "  {'criterion': 'entropy', 'max_depth': 10, 'n_estimators': 1000},\n",
       "  {'criterion': 'entropy', 'max_depth': 20, 'n_estimators': 10},\n",
       "  {'criterion': 'entropy', 'max_depth': 20, 'n_estimators': 100},\n",
       "  {'criterion': 'entropy', 'max_depth': 20, 'n_estimators': 1000}],\n",
       " 'split0_test_score': array([0.591, 0.627, 0.632, 0.626, 0.643, 0.66 , 0.619, 0.632, 0.635,\n",
       "        0.594, 0.619, 0.626, 0.634, 0.653, 0.658, 0.606, 0.636, 0.636]),\n",
       " 'split1_test_score': array([0.608, 0.631, 0.624, 0.634, 0.622, 0.629, 0.573, 0.62 , 0.626,\n",
       "        0.604, 0.62 , 0.631, 0.622, 0.628, 0.629, 0.582, 0.621, 0.623]),\n",
       " 'split2_test_score': array([0.59 , 0.614, 0.606, 0.603, 0.6  , 0.603, 0.588, 0.593, 0.608,\n",
       "        0.55 , 0.57 , 0.595, 0.598, 0.599, 0.605, 0.58 , 0.606, 0.594]),\n",
       " 'split3_test_score': array([0.563, 0.602, 0.598, 0.599, 0.624, 0.618, 0.588, 0.621, 0.615,\n",
       "        0.576, 0.611, 0.604, 0.607, 0.621, 0.62 , 0.578, 0.598, 0.614]),\n",
       " 'split4_test_score': array([0.608, 0.627, 0.632, 0.613, 0.642, 0.637, 0.589, 0.642, 0.639,\n",
       "        0.564, 0.625, 0.626, 0.613, 0.636, 0.632, 0.584, 0.63 , 0.635]),\n",
       " 'mean_test_score': array([0.592 , 0.6202, 0.6184, 0.615 , 0.6262, 0.6294, 0.5914, 0.6216,\n",
       "        0.6246, 0.5776, 0.609 , 0.6164, 0.6148, 0.6274, 0.6288, 0.586 ,\n",
       "        0.6182, 0.6204]),\n",
       " 'std_test_score': array([0.01648029, 0.01075918, 0.013937  , 0.01331165, 0.01575309,\n",
       "        0.01908507, 0.01502797, 0.01640244, 0.01170641, 0.01957141,\n",
       "        0.02001   , 0.01420704, 0.01238386, 0.01776063, 0.01735972,\n",
       "        0.01019804, 0.01428846, 0.01549968]),\n",
       " 'rank_test_score': array([15,  8,  9, 12,  4,  1, 16,  6,  5, 18, 14, 11, 13,  3,  2, 17, 10,\n",
       "         7], dtype=int32)}"
      ]
     },
     "execution_count": 108,
     "metadata": {},
     "output_type": "execute_result"
    }
   ],
   "source": [
    "rfc_gs.cv_results_"
   ]
  },
  {
   "cell_type": "code",
   "execution_count": null,
   "metadata": {},
   "outputs": [],
   "source": []
  }
 ],
 "metadata": {
  "kernelspec": {
   "display_name": "Python 3",
   "language": "python",
   "name": "python3"
  },
  "language_info": {
   "codemirror_mode": {
    "name": "ipython",
    "version": 3
   },
   "file_extension": ".py",
   "mimetype": "text/x-python",
   "name": "python",
   "nbconvert_exporter": "python",
   "pygments_lexer": "ipython3",
   "version": "3.7.6"
  }
 },
 "nbformat": 4,
 "nbformat_minor": 4
}
