{
 "cells": [
  {
   "cell_type": "code",
   "execution_count": 1,
   "metadata": {},
   "outputs": [],
   "source": [
    "import pandas as pd\n",
    "import numpy as np\n",
    "\n",
    "import matplotlib.pyplot as plt\n",
    "from matplotlib.pyplot import figure\n",
    "import seaborn as sns\n",
    "from sklearn.metrics import roc_curve\n",
    "plt.style.use('ggplot')\n",
    "%matplotlib inline\n",
    "\n",
    "import warnings\n",
    "warnings.filterwarnings('ignore')\n",
    "\n",
    "from sklearn.linear_model import LogisticRegression\n",
    "from sklearn.neighbors import KNeighborsClassifier\n",
    "from sklearn.ensemble import RandomForestClassifier\n",
    "from sklearn.dummy import DummyClassifier\n",
    "import xgboost as xgb\n",
    "\n",
    "from sklearn.model_selection import GridSearchCV\n",
    "from sklearn.model_selection import RandomizedSearchCV\n",
    "\n",
    "from sklearn.metrics import accuracy_score\n",
    "from sklearn.metrics import confusion_matrix\n",
    "from sklearn.metrics import precision_score, recall_score, f1_score\n",
    "from sklearn.metrics import classification_report\n",
    "from sklearn.metrics import roc_auc_score\n",
    "from sklearn.model_selection import cross_val_score\n",
    "from sklearn.metrics import mean_absolute_error\n",
    "from sklearn.metrics import matthews_corrcoef\n",
    "from sklearn.metrics import log_loss\n",
    "from sklearn.metrics import make_scorer\n",
    "\n",
    "from time import time"
   ]
  },
  {
   "cell_type": "code",
   "execution_count": 2,
   "metadata": {},
   "outputs": [],
   "source": [
    "X_test = pd.read_csv('../data/X_test.csv').drop('Unnamed: 0', axis=1)\n",
    "X_train = pd.read_csv('../data/X_train.csv').drop('Unnamed: 0', axis=1)\n",
    "y_test = pd.read_csv('../data/y_test.csv').drop('Unnamed: 0', axis=1)\n",
    "y_train = pd.read_csv('../data/y_train.csv').drop('Unnamed: 0', axis=1)"
   ]
  },
  {
   "cell_type": "markdown",
   "metadata": {},
   "source": [
    "# Default Models"
   ]
  },
  {
   "cell_type": "code",
   "execution_count": 3,
   "metadata": {},
   "outputs": [],
   "source": [
    "models = [LogisticRegression(random_state=123), KNeighborsClassifier(), RandomForestClassifier(random_state=123), \n",
    "         xgb.XGBClassifier(objective='binary:logistic', random_state=123), DummyClassifier(random_state=123)]"
   ]
  },
  {
   "cell_type": "code",
   "execution_count": 4,
   "metadata": {},
   "outputs": [
    {
     "name": "stdout",
     "output_type": "stream",
     "text": [
      "LogisticRegression(C=1.0, class_weight=None, dual=False, fit_intercept=True,\n",
      "                   intercept_scaling=1, l1_ratio=None, max_iter=100,\n",
      "                   multi_class='auto', n_jobs=None, penalty='l2',\n",
      "                   random_state=123, solver='lbfgs', tol=0.0001, verbose=0,\n",
      "                   warm_start=False) 0.6152\n",
      "KNeighborsClassifier(algorithm='auto', leaf_size=30, metric='minkowski',\n",
      "                     metric_params=None, n_jobs=None, n_neighbors=5, p=2,\n",
      "                     weights='uniform') 0.54\n",
      "RandomForestClassifier(bootstrap=True, ccp_alpha=0.0, class_weight=None,\n",
      "                       criterion='gini', max_depth=None, max_features='auto',\n",
      "                       max_leaf_nodes=None, max_samples=None,\n",
      "                       min_impurity_decrease=0.0, min_impurity_split=None,\n",
      "                       min_samples_leaf=1, min_samples_split=2,\n",
      "                       min_weight_fraction_leaf=0.0, n_estimators=100,\n",
      "                       n_jobs=None, oob_score=False, random_state=123,\n",
      "                       verbose=0, warm_start=False) 0.6118\n",
      "XGBClassifier(base_score=0.5, booster='gbtree', colsample_bylevel=1,\n",
      "              colsample_bynode=1, colsample_bytree=1, gamma=0, gpu_id=-1,\n",
      "              importance_type='gain', interaction_constraints='',\n",
      "              learning_rate=0.300000012, max_delta_step=0, max_depth=6,\n",
      "              min_child_weight=1, missing=nan, monotone_constraints='()',\n",
      "              n_estimators=100, n_jobs=0, num_parallel_tree=1,\n",
      "              objective='binary:logistic', random_state=123, reg_alpha=0,\n",
      "              reg_lambda=1, scale_pos_weight=1, subsample=1,\n",
      "              tree_method='exact', validate_parameters=1, verbosity=None) 0.6202\n",
      "DummyClassifier(constant=None, random_state=123, strategy='warn') 0.5\n"
     ]
    }
   ],
   "source": [
    "default_scores = []\n",
    "\n",
    "for model in models:\n",
    "    model.fit(X_train, y_train)\n",
    "    score = model.score(X_test, y_test)\n",
    "    default_scores.append(score)\n",
    "    print(str(model), score)"
   ]
  },
  {
   "cell_type": "code",
   "execution_count": 5,
   "metadata": {},
   "outputs": [],
   "source": [
    "model_names = ['LR', 'KNN', 'RFC', 'XGB', 'Dummy']"
   ]
  },
  {
   "cell_type": "code",
   "execution_count": 88,
   "metadata": {},
   "outputs": [
    {
     "data": {
      "text/html": [
       "<div>\n",
       "<style scoped>\n",
       "    .dataframe tbody tr th:only-of-type {\n",
       "        vertical-align: middle;\n",
       "    }\n",
       "\n",
       "    .dataframe tbody tr th {\n",
       "        vertical-align: top;\n",
       "    }\n",
       "\n",
       "    .dataframe thead th {\n",
       "        text-align: right;\n",
       "    }\n",
       "</style>\n",
       "<table border=\"1\" class=\"dataframe\">\n",
       "  <thead>\n",
       "    <tr style=\"text-align: right;\">\n",
       "      <th></th>\n",
       "      <th>Default_accuracy_scores</th>\n",
       "    </tr>\n",
       "    <tr>\n",
       "      <th>Labels</th>\n",
       "      <th></th>\n",
       "    </tr>\n",
       "  </thead>\n",
       "  <tbody>\n",
       "    <tr>\n",
       "      <th>XGB</th>\n",
       "      <td>0.6202</td>\n",
       "    </tr>\n",
       "    <tr>\n",
       "      <th>LR</th>\n",
       "      <td>0.6152</td>\n",
       "    </tr>\n",
       "    <tr>\n",
       "      <th>RFC</th>\n",
       "      <td>0.6118</td>\n",
       "    </tr>\n",
       "    <tr>\n",
       "      <th>KNN</th>\n",
       "      <td>0.5400</td>\n",
       "    </tr>\n",
       "    <tr>\n",
       "      <th>Dummy</th>\n",
       "      <td>0.5000</td>\n",
       "    </tr>\n",
       "  </tbody>\n",
       "</table>\n",
       "</div>"
      ],
      "text/plain": [
       "        Default_accuracy_scores\n",
       "Labels                         \n",
       "XGB                      0.6202\n",
       "LR                       0.6152\n",
       "RFC                      0.6118\n",
       "KNN                      0.5400\n",
       "Dummy                    0.5000"
      ]
     },
     "execution_count": 88,
     "metadata": {},
     "output_type": "execute_result"
    }
   ],
   "source": [
    "def_accuracy_df = pd.DataFrame({'Labels':model_names, 'Default_accuracy_scores':default_scores}).set_index('Labels')\\\n",
    ".sort_values(by='Default_accuracy_scores', ascending=False)\n",
    "def_accuracy_df"
   ]
  },
  {
   "cell_type": "code",
   "execution_count": 7,
   "metadata": {},
   "outputs": [
    {
     "data": {
      "image/png": "[encoded data removed]",
      "text/plain": [
       "<Figure size 800x560 with 1 Axes>"
      ]
     },
     "metadata": {},
     "output_type": "display_data"
    }
   ],
   "source": [
    "_ = figure(figsize=(10, 7), dpi=80, facecolor='w', edgecolor='k')\n",
    "_ = plt.bar(def_accuracy_df.index, def_accuracy_df['Default Accuracy Scores'])\n",
    "_ = plt.title('Default Model Accuracy Scores')\n",
    "_ = plt.ylabel('Score')\n",
    "_ = plt.xlabel('Models')\n",
    "plt.show()"
   ]
  },
  {
   "cell_type": "code",
   "execution_count": 8,
   "metadata": {},
   "outputs": [],
   "source": [
    "logreg = LogisticRegression(random_state=123)\n",
    "\n",
    "logreg.fit(X_train, y_train)\n",
    "\n",
    "pred_lr = logreg.predict(X_test)"
   ]
  },
  {
   "cell_type": "code",
   "execution_count": 9,
   "metadata": {},
   "outputs": [],
   "source": [
    "knn = KNeighborsClassifier()\n",
    "\n",
    "knn.fit(X_train, y_train)\n",
    "\n",
    "pred_knn = knn.predict(X_test)"
   ]
  },
  {
   "cell_type": "code",
   "execution_count": 10,
   "metadata": {},
   "outputs": [],
   "source": [
    "xgbcl = xgb.XGBClassifier(objective='binary:logistic', random_state=123)\n",
    "\n",
    "xgbcl.fit(X_train, y_train)\n",
    "\n",
    "pred_xgb = xgbcl.predict(X_test)"
   ]
  },
  {
   "cell_type": "code",
   "execution_count": 11,
   "metadata": {},
   "outputs": [],
   "source": [
    "rfc = RandomForestClassifier(random_state=123)\n",
    "\n",
    "rfc.fit(X_train, y_train)\n",
    "\n",
    "pred_rfc = rfc.predict(X_test)"
   ]
  },
  {
   "cell_type": "code",
   "execution_count": 12,
   "metadata": {},
   "outputs": [],
   "source": [
    "def_predictions = [pred_lr, pred_knn, pred_xgb, pred_rfc]"
   ]
  },
  {
   "cell_type": "code",
   "execution_count": 13,
   "metadata": {},
   "outputs": [],
   "source": [
    "GS_acc_scores = []\n",
    "GS_predictions = []\n",
    "GS_pred_probs = []\n",
    "GS_times = []"
   ]
  },
  {
   "cell_type": "markdown",
   "metadata": {},
   "source": [
    "# Logistic Regression"
   ]
  },
  {
   "cell_type": "code",
   "execution_count": 14,
   "metadata": {},
   "outputs": [
    {
     "name": "stdout",
     "output_type": "stream",
     "text": [
      "LR accuracy score = 0.6152\n",
      "LR precision score = 0.6148\n",
      "LR recall score = 0.4162\n",
      "LR F1 score = 0.4963\n"
     ]
    }
   ],
   "source": [
    "print('LR accuracy score = {}'.format(round(accuracy_score(y_test, pred_lr), 4)))\n",
    "print('LR precision score = {}'.format(round(precision_score(y_test, pred_lr), 4)))\n",
    "print('LR recall score = {}'.format(round(recall_score(y_test, pred_lr), 4)))\n",
    "print('LR F1 score = {}'.format(round(f1_score(y_test, pred_lr), 4)))"
   ]
  },
  {
   "cell_type": "code",
   "execution_count": 15,
   "metadata": {},
   "outputs": [
    {
     "data": {
      "text/plain": [
       "array([[2128, 1330],\n",
       "       [ 594,  948]])"
      ]
     },
     "execution_count": 15,
     "metadata": {},
     "output_type": "execute_result"
    }
   ],
   "source": [
    "confusion_matrix(pred_lr, y_test)"
   ]
  },
  {
   "cell_type": "code",
   "execution_count": 16,
   "metadata": {},
   "outputs": [],
   "source": [
    "prob_lr = logreg.predict_proba(X_test)"
   ]
  },
  {
   "cell_type": "markdown",
   "metadata": {},
   "source": [
    "# Grid Search Logistic Regression"
   ]
  },
  {
   "cell_type": "code",
   "execution_count": 17,
   "metadata": {},
   "outputs": [
    {
     "data": {
      "text/plain": [
       "GridSearchCV(cv=5, error_score=nan,\n",
       "             estimator=LogisticRegression(C=1.0, class_weight=None, dual=False,\n",
       "                                          fit_intercept=True,\n",
       "                                          intercept_scaling=1, l1_ratio=None,\n",
       "                                          max_iter=100, multi_class='auto',\n",
       "                                          n_jobs=None, penalty='l2',\n",
       "                                          random_state=123, solver='lbfgs',\n",
       "                                          tol=0.0001, verbose=0,\n",
       "                                          warm_start=False),\n",
       "             iid='deprecated', n_jobs=None,\n",
       "             param_grid={'C': [0.01, 0.1, 1, 10, 100],\n",
       "                         'max_iter': [1, 10, 100, 200]},\n",
       "             pre_dispatch='2*n_jobs', refit=True, return_train_score=False,\n",
       "             scoring=make_scorer(roc_auc_score), verbose=0)"
      ]
     },
     "execution_count": 17,
     "metadata": {},
     "output_type": "execute_result"
    }
   ],
   "source": [
    "c_space = [0.01,0.1,1,10,100]\n",
    "max_iter = [1,10,100,200]\n",
    "\n",
    "params = {'C': c_space, \n",
    "          'max_iter':max_iter\n",
    "         }\n",
    "\n",
    "lr_gs = GridSearchCV(logreg, param_grid=params, cv=5, scoring=make_scorer(roc_auc_score))\n",
    "\n",
    "lr_gs.fit(X_train, y_train)"
   ]
  },
  {
   "cell_type": "code",
   "execution_count": 18,
   "metadata": {},
   "outputs": [
    {
     "data": {
      "text/plain": [
       "{'C': 100, 'max_iter': 200}"
      ]
     },
     "execution_count": 18,
     "metadata": {},
     "output_type": "execute_result"
    }
   ],
   "source": [
    "lr_gs.best_params_"
   ]
  },
  {
   "cell_type": "code",
   "execution_count": 19,
   "metadata": {},
   "outputs": [
    {
     "name": "stdout",
     "output_type": "stream",
     "text": [
      "0.558 seconds to run\n"
     ]
    }
   ],
   "source": [
    "start = time()\n",
    "\n",
    "lr_gs = LogisticRegression(C=100, max_iter=200)\n",
    "\n",
    "lr_gs.fit(X_train, y_train)\n",
    "\n",
    "stop = time()\n",
    "\n",
    "fit_time_lr = stop - start\n",
    "\n",
    "print(round(fit_time_lr, 3), 'seconds to run')"
   ]
  },
  {
   "cell_type": "code",
   "execution_count": 20,
   "metadata": {},
   "outputs": [],
   "source": [
    "GS_times.append(fit_time_lr)"
   ]
  },
  {
   "cell_type": "code",
   "execution_count": 21,
   "metadata": {},
   "outputs": [],
   "source": [
    "pred_GSLR = lr_gs.predict(X_test)\n",
    "GS_predictions.append(pred_GSLR)"
   ]
  },
  {
   "cell_type": "code",
   "execution_count": 22,
   "metadata": {},
   "outputs": [
    {
     "data": {
      "text/plain": [
       "array([[2140, 1345],\n",
       "       [ 582,  933]])"
      ]
     },
     "execution_count": 22,
     "metadata": {},
     "output_type": "execute_result"
    }
   ],
   "source": [
    "confusion_matrix(pred_GSLR, y_test)"
   ]
  },
  {
   "cell_type": "code",
   "execution_count": 23,
   "metadata": {},
   "outputs": [
    {
     "name": "stdout",
     "output_type": "stream",
     "text": [
      "Grid search LR accuracy score = 0.6146\n",
      "Grid search LR precision score = 0.6158\n",
      "Grid search LR recall score= 0.4096\n",
      "Grid search LR F1 score = 0.492\n"
     ]
    }
   ],
   "source": [
    "print('Grid search LR accuracy score = {}'.format(round(accuracy_score(y_test, pred_GSLR), 4)))\n",
    "print('Grid search LR precision score = {}'.format(round(precision_score(y_test, pred_GSLR), 4)))\n",
    "print('Grid search LR recall score= {}'.format(round(recall_score(y_test, pred_GSLR), 4)))\n",
    "print('Grid search LR F1 score = {}'.format(round(f1_score(y_test, pred_GSLR), 4)))"
   ]
  },
  {
   "cell_type": "code",
   "execution_count": 24,
   "metadata": {},
   "outputs": [],
   "source": [
    "GS_acc_scores.append((round(accuracy_score(y_test, pred_GSLR), 4)))"
   ]
  },
  {
   "cell_type": "code",
   "execution_count": 25,
   "metadata": {},
   "outputs": [
    {
     "name": "stdout",
     "output_type": "stream",
     "text": [
      "              precision    recall  f1-score   support\n",
      "\n",
      "         0.0       0.61      0.79      0.69      2722\n",
      "         1.0       0.62      0.41      0.49      2278\n",
      "\n",
      "    accuracy                           0.61      5000\n",
      "   macro avg       0.61      0.60      0.59      5000\n",
      "weighted avg       0.61      0.61      0.60      5000\n",
      "\n"
     ]
    }
   ],
   "source": [
    "print(classification_report(y_test, pred_GSLR))"
   ]
  },
  {
   "cell_type": "code",
   "execution_count": 26,
   "metadata": {},
   "outputs": [],
   "source": [
    "prob_GSLR = lr_gs.predict_proba(X_test)\n",
    "GS_pred_probs.append(prob_GSLR)"
   ]
  },
  {
   "cell_type": "markdown",
   "metadata": {},
   "source": [
    "# K Nearest Neighbors"
   ]
  },
  {
   "cell_type": "code",
   "execution_count": 27,
   "metadata": {},
   "outputs": [
    {
     "name": "stdout",
     "output_type": "stream",
     "text": [
      "KNN accuracy score = 0.54\n",
      "KNN precision score = 0.4952\n",
      "KNN recall score = 0.4943\n",
      "KNN F1 score = 0.4947\n"
     ]
    }
   ],
   "source": [
    "print('KNN accuracy score = {}'.format(round(accuracy_score(y_test, pred_knn), 4)))\n",
    "print('KNN precision score = {}'.format(round(precision_score(y_test, pred_knn), 4)))\n",
    "print('KNN recall score = {}'.format(round(recall_score(y_test, pred_knn), 4)))\n",
    "print('KNN F1 score = {}'.format(round(f1_score(y_test, pred_knn), 4)))"
   ]
  },
  {
   "cell_type": "code",
   "execution_count": 28,
   "metadata": {},
   "outputs": [
    {
     "data": {
      "text/plain": [
       "array([[1574, 1152],\n",
       "       [1148, 1126]])"
      ]
     },
     "execution_count": 28,
     "metadata": {},
     "output_type": "execute_result"
    }
   ],
   "source": [
    "confusion_matrix(pred_knn, y_test)"
   ]
  },
  {
   "cell_type": "code",
   "execution_count": 29,
   "metadata": {},
   "outputs": [],
   "source": [
    "prob_knn = knn.predict_proba(X_test)"
   ]
  },
  {
   "cell_type": "markdown",
   "metadata": {},
   "source": [
    "# Grid Search K Nearest Neighbors"
   ]
  },
  {
   "cell_type": "code",
   "execution_count": 30,
   "metadata": {},
   "outputs": [
    {
     "data": {
      "text/plain": [
       "GridSearchCV(cv=5, error_score=nan,\n",
       "             estimator=KNeighborsClassifier(algorithm='auto', leaf_size=30,\n",
       "                                            metric='minkowski',\n",
       "                                            metric_params=None, n_jobs=None,\n",
       "                                            n_neighbors=5, p=2,\n",
       "                                            weights='uniform'),\n",
       "             iid='deprecated', n_jobs=None,\n",
       "             param_grid={'leaf_size': [20, 30, 40],\n",
       "                         'n_neighbors': range(1, 76, 15)},\n",
       "             pre_dispatch='2*n_jobs', refit=True, return_train_score=False,\n",
       "             scoring=make_scorer(roc_auc_score), verbose=0)"
      ]
     },
     "execution_count": 30,
     "metadata": {},
     "output_type": "execute_result"
    }
   ],
   "source": [
    "n_neighbors = range(1,76, 15)\n",
    "leaf_size = [20, 30, 40]\n",
    "\n",
    "params = {'n_neighbors': n_neighbors, \n",
    "          'leaf_size':leaf_size\n",
    "         }\n",
    "\n",
    "knn_gs = GridSearchCV(knn, param_grid=params, cv=5, scoring=make_scorer(roc_auc_score))\n",
    "\n",
    "knn_gs.fit(X_train, y_train)"
   ]
  },
  {
   "cell_type": "code",
   "execution_count": 31,
   "metadata": {},
   "outputs": [],
   "source": [
    "pred_GSKNN = knn_gs.predict(X_test)\n",
    "GS_predictions.append(pred_GSKNN)"
   ]
  },
  {
   "cell_type": "code",
   "execution_count": 32,
   "metadata": {},
   "outputs": [
    {
     "data": {
      "text/plain": [
       "{'leaf_size': 20, 'n_neighbors': 61}"
      ]
     },
     "execution_count": 32,
     "metadata": {},
     "output_type": "execute_result"
    }
   ],
   "source": [
    "knn_gs.best_params_"
   ]
  },
  {
   "cell_type": "code",
   "execution_count": 36,
   "metadata": {},
   "outputs": [
    {
     "name": "stdout",
     "output_type": "stream",
     "text": [
      "0.557 seconds to run\n"
     ]
    }
   ],
   "source": [
    "start = time()\n",
    "\n",
    "knn_gs = KNeighborsClassifier(leaf_size=20, n_neighbors=61)\n",
    "\n",
    "knn_gs.fit(X_train, y_train)\n",
    "\n",
    "stop = time()\n",
    "\n",
    "fit_time_knn = stop - start\n",
    "\n",
    "print(round(fit_time_knn, 3), 'seconds to run')"
   ]
  },
  {
   "cell_type": "code",
   "execution_count": 37,
   "metadata": {},
   "outputs": [],
   "source": [
    "GS_times.append(fit_time_knn)"
   ]
  },
  {
   "cell_type": "code",
   "execution_count": 38,
   "metadata": {},
   "outputs": [
    {
     "name": "stdout",
     "output_type": "stream",
     "text": [
      "Grid Search KNN accuracy score = 0.574\n",
      "Grid search KNN precision score = 0.5411\n",
      "Grid search KNN recall score = 0.428\n",
      "Grid search KNN F1 score = 0.4779\n"
     ]
    }
   ],
   "source": [
    "print('Grid Search KNN accuracy score = {}'.format(round(accuracy_score(y_test, pred_GSKNN), 4)))\n",
    "print('Grid search KNN precision score = {}'.format(round(precision_score(y_test, pred_GSKNN), 4)))\n",
    "print('Grid search KNN recall score = {}'.format(round(recall_score(y_test, pred_GSKNN), 4)))\n",
    "print('Grid search KNN F1 score = {}'.format(round(f1_score(y_test, pred_GSKNN), 4)))"
   ]
  },
  {
   "cell_type": "code",
   "execution_count": 39,
   "metadata": {},
   "outputs": [],
   "source": [
    "GS_acc_scores.append((round(accuracy_score(y_test, pred_GSKNN), 4)))"
   ]
  },
  {
   "cell_type": "code",
   "execution_count": 40,
   "metadata": {},
   "outputs": [
    {
     "data": {
      "text/plain": [
       "array([[1895, 1303],\n",
       "       [ 827,  975]])"
      ]
     },
     "execution_count": 40,
     "metadata": {},
     "output_type": "execute_result"
    }
   ],
   "source": [
    "confusion_matrix(pred_GSKNN, y_test)"
   ]
  },
  {
   "cell_type": "code",
   "execution_count": 41,
   "metadata": {},
   "outputs": [
    {
     "name": "stdout",
     "output_type": "stream",
     "text": [
      "              precision    recall  f1-score   support\n",
      "\n",
      "         0.0       0.59      0.70      0.64      2722\n",
      "         1.0       0.54      0.43      0.48      2278\n",
      "\n",
      "    accuracy                           0.57      5000\n",
      "   macro avg       0.57      0.56      0.56      5000\n",
      "weighted avg       0.57      0.57      0.57      5000\n",
      "\n"
     ]
    }
   ],
   "source": [
    "print(classification_report(y_test, pred_GSKNN))"
   ]
  },
  {
   "cell_type": "code",
   "execution_count": 42,
   "metadata": {},
   "outputs": [],
   "source": [
    "prob_GSKNN = knn_gs.predict_proba(X_test)\n",
    "GS_pred_probs.append(prob_GSKNN)"
   ]
  },
  {
   "cell_type": "markdown",
   "metadata": {},
   "source": [
    "# Random Forest Classifier"
   ]
  },
  {
   "cell_type": "code",
   "execution_count": 43,
   "metadata": {},
   "outputs": [
    {
     "name": "stdout",
     "output_type": "stream",
     "text": [
      "RFC accuracy score = 0.6118\n",
      "RFC precision score = 0.5925\n",
      "RFC recall score = 0.4737\n",
      "RFC F1 score = 0.5265\n"
     ]
    }
   ],
   "source": [
    "print('RFC accuracy score = {}'.format(round(accuracy_score(y_test, pred_rfc), 4)))\n",
    "print('RFC precision score = {}'.format(round(precision_score(y_test, pred_rfc), 4)))\n",
    "print('RFC recall score = {}'.format(round(recall_score(y_test, pred_rfc), 4)))\n",
    "print('RFC F1 score = {}'.format(round(f1_score(y_test, pred_rfc), 4)))"
   ]
  },
  {
   "cell_type": "code",
   "execution_count": 44,
   "metadata": {},
   "outputs": [
    {
     "data": {
      "text/plain": [
       "array([[1980, 1199],\n",
       "       [ 742, 1079]])"
      ]
     },
     "execution_count": 44,
     "metadata": {},
     "output_type": "execute_result"
    }
   ],
   "source": [
    "confusion_matrix(pred_rfc, y_test)"
   ]
  },
  {
   "cell_type": "code",
   "execution_count": 45,
   "metadata": {},
   "outputs": [],
   "source": [
    "prob_rfc = rfc.predict_proba(X_test)"
   ]
  },
  {
   "cell_type": "markdown",
   "metadata": {},
   "source": [
    "# Grid Search Random Forest Classifier"
   ]
  },
  {
   "cell_type": "code",
   "execution_count": 46,
   "metadata": {},
   "outputs": [
    {
     "data": {
      "text/plain": [
       "GridSearchCV(cv=5, error_score=nan,\n",
       "             estimator=RandomForestClassifier(bootstrap=True, ccp_alpha=0.0,\n",
       "                                              class_weight=None,\n",
       "                                              criterion='gini', max_depth=None,\n",
       "                                              max_features='auto',\n",
       "                                              max_leaf_nodes=None,\n",
       "                                              max_samples=None,\n",
       "                                              min_impurity_decrease=0.0,\n",
       "                                              min_impurity_split=None,\n",
       "                                              min_samples_leaf=1,\n",
       "                                              min_samples_split=2,\n",
       "                                              min_weight_fraction_leaf=0.0,\n",
       "                                              n_estimators=100, n_jobs=None,\n",
       "                                              oob_score=False, random_state=123,\n",
       "                                              verbose=0, warm_start=False),\n",
       "             iid='deprecated', n_jobs=None,\n",
       "             param_grid={'criterion': ['gini', 'entropy'],\n",
       "                         'max_depth': [None, 10, 20],\n",
       "                         'n_estimators': [10, 100, 1000]},\n",
       "             pre_dispatch='2*n_jobs', refit=True, return_train_score=False,\n",
       "             scoring=make_scorer(roc_auc_score), verbose=0)"
      ]
     },
     "execution_count": 46,
     "metadata": {},
     "output_type": "execute_result"
    }
   ],
   "source": [
    "params = {'n_estimators':[10, 100, 1000],\n",
    "        'criterion': ['gini', 'entropy'], \n",
    "        'max_depth':[None, 10, 20] \n",
    "         }\n",
    "\n",
    "GridSearchCV(rfc, param_grid=params)\n",
    "\n",
    "rfc_gs = GridSearchCV(rfc, param_grid=params, cv=5, scoring=make_scorer(roc_auc_score))\n",
    "\n",
    "rfc_gs.fit(X_test, y_test)"
   ]
  },
  {
   "cell_type": "code",
   "execution_count": 47,
   "metadata": {},
   "outputs": [],
   "source": [
    "pred_GSRFC = rfc_gs.predict(X_test)\n",
    "GS_predictions.append(pred_GSRFC)"
   ]
  },
  {
   "cell_type": "code",
   "execution_count": 48,
   "metadata": {},
   "outputs": [
    {
     "data": {
      "text/plain": [
       "{'criterion': 'gini', 'max_depth': 10, 'n_estimators': 1000}"
      ]
     },
     "execution_count": 48,
     "metadata": {},
     "output_type": "execute_result"
    }
   ],
   "source": [
    "rfc_gs.best_params_"
   ]
  },
  {
   "cell_type": "code",
   "execution_count": 49,
   "metadata": {},
   "outputs": [
    {
     "name": "stdout",
     "output_type": "stream",
     "text": [
      "4.107 seconds to run\n"
     ]
    }
   ],
   "source": [
    "start = time()\n",
    "\n",
    "rfc_gs = RandomForestClassifier(criterion='gini', max_depth=10, n_estimators=1000)\n",
    "\n",
    "rfc_gs.fit(X_test, y_test)\n",
    "\n",
    "stop = time()\n",
    "\n",
    "fit_time_rfc = stop - start\n",
    "\n",
    "print(round(fit_time_rfc, 3), 'seconds to run')"
   ]
  },
  {
   "cell_type": "code",
   "execution_count": 50,
   "metadata": {},
   "outputs": [],
   "source": [
    "GS_times.append(fit_time_rfc)"
   ]
  },
  {
   "cell_type": "code",
   "execution_count": 51,
   "metadata": {},
   "outputs": [
    {
     "name": "stdout",
     "output_type": "stream",
     "text": [
      "Grid search RFC accuracy score = 0.7734\n",
      "Grid search RFC precision score = 0.8323\n",
      "Grid search RFC recall score = 0.6295\n",
      "Grid search RFC F1 score = 0.7168\n"
     ]
    }
   ],
   "source": [
    "print('Grid search RFC accuracy score = {}'.format(round(accuracy_score(y_test, pred_GSRFC), 4)))\n",
    "print('Grid search RFC precision score = {}'.format(round(precision_score(y_test, pred_GSRFC), 4)))\n",
    "print('Grid search RFC recall score = {}'.format(round(recall_score(y_test, pred_GSRFC), 4)))\n",
    "print('Grid search RFC F1 score = {}'.format(round(f1_score(y_test, pred_GSRFC), 4)))"
   ]
  },
  {
   "cell_type": "code",
   "execution_count": 52,
   "metadata": {},
   "outputs": [],
   "source": [
    "GS_acc_scores.append((round(accuracy_score(y_test, pred_GSRFC), 4)))"
   ]
  },
  {
   "cell_type": "code",
   "execution_count": 53,
   "metadata": {},
   "outputs": [
    {
     "data": {
      "text/plain": [
       "array([[2433,  844],\n",
       "       [ 289, 1434]])"
      ]
     },
     "execution_count": 53,
     "metadata": {},
     "output_type": "execute_result"
    }
   ],
   "source": [
    "confusion_matrix(pred_GSRFC, y_test)"
   ]
  },
  {
   "cell_type": "code",
   "execution_count": 54,
   "metadata": {},
   "outputs": [
    {
     "name": "stdout",
     "output_type": "stream",
     "text": [
      "              precision    recall  f1-score   support\n",
      "\n",
      "         0.0       0.74      0.89      0.81      2722\n",
      "         1.0       0.83      0.63      0.72      2278\n",
      "\n",
      "    accuracy                           0.77      5000\n",
      "   macro avg       0.79      0.76      0.76      5000\n",
      "weighted avg       0.78      0.77      0.77      5000\n",
      "\n"
     ]
    }
   ],
   "source": [
    "print(classification_report(y_test, pred_GSRFC))"
   ]
  },
  {
   "cell_type": "code",
   "execution_count": 55,
   "metadata": {},
   "outputs": [],
   "source": [
    "prob_GSRFC = rfc_gs.predict_proba(X_test)\n",
    "GS_pred_probs.append(prob_GSRFC)"
   ]
  },
  {
   "cell_type": "markdown",
   "metadata": {},
   "source": [
    "# XGBoost"
   ]
  },
  {
   "cell_type": "code",
   "execution_count": 56,
   "metadata": {},
   "outputs": [
    {
     "name": "stdout",
     "output_type": "stream",
     "text": [
      "XGB accuracy score = 0.6202\n",
      "XGB precision score = 0.5968318855390904\n",
      "XGB recall score = 0.5127304653204565\n",
      "XGB F1 score = 0.5515938606847698\n"
     ]
    }
   ],
   "source": [
    "print('XGB accuracy score = {}'.format(accuracy_score(y_test, pred_xgb)))\n",
    "print('XGB precision score = {}'.format(precision_score(y_test, pred_xgb)))\n",
    "print('XGB recall score = {}'.format(recall_score(y_test, pred_xgb)))\n",
    "print('XGB F1 score = {}'.format(f1_score(y_test, pred_xgb)))"
   ]
  },
  {
   "cell_type": "code",
   "execution_count": 57,
   "metadata": {},
   "outputs": [
    {
     "data": {
      "text/plain": [
       "array([[1933, 1110],\n",
       "       [ 789, 1168]])"
      ]
     },
     "execution_count": 57,
     "metadata": {},
     "output_type": "execute_result"
    }
   ],
   "source": [
    "confusion_matrix(pred_xgb, y_test)"
   ]
  },
  {
   "cell_type": "code",
   "execution_count": 58,
   "metadata": {},
   "outputs": [],
   "source": [
    "prob_xgbcl = xgbcl.predict_proba(X_test)"
   ]
  },
  {
   "cell_type": "markdown",
   "metadata": {},
   "source": [
    "# Gradiant Boost XGBoost"
   ]
  },
  {
   "cell_type": "code",
   "execution_count": 61,
   "metadata": {},
   "outputs": [
    {
     "data": {
      "text/plain": [
       "GridSearchCV(cv=5, error_score=nan,\n",
       "             estimator=XGBClassifier(base_score=0.5, booster='gbtree',\n",
       "                                     colsample_bylevel=1, colsample_bynode=1,\n",
       "                                     colsample_bytree=1, gamma=0, gpu_id=-1,\n",
       "                                     importance_type='gain',\n",
       "                                     interaction_constraints='',\n",
       "                                     learning_rate=0.300000012,\n",
       "                                     max_delta_step=0, max_depth=6,\n",
       "                                     min_child_weight=1, missing=nan,\n",
       "                                     monotone_constraints='()',\n",
       "                                     n_estimators=100, n_job...\n",
       "                                     objective='binary:logistic',\n",
       "                                     random_state=123, reg_alpha=0,\n",
       "                                     reg_lambda=1, scale_pos_weight=1,\n",
       "                                     subsample=1, tree_method='exact',\n",
       "                                     validate_parameters=1, verbosity=None),\n",
       "             iid='deprecated', n_jobs=None,\n",
       "             param_grid={'max_depth': [1, 3, 10, None],\n",
       "                         'n_estimators': [1, 5, 10, 20, 30, 50]},\n",
       "             pre_dispatch='2*n_jobs', refit=True, return_train_score=False,\n",
       "             scoring=make_scorer(roc_auc_score), verbose=0)"
      ]
     },
     "execution_count": 61,
     "metadata": {},
     "output_type": "execute_result"
    }
   ],
   "source": [
    "n_estimators = [1, 5, 10, 20, 30, 50]\n",
    "max_depth = [1, 3, 10, None]\n",
    "\n",
    "params = {'n_estimators': n_estimators,\n",
    "          'max_depth':max_depth\n",
    "         }\n",
    "\n",
    "xgb_gs = GridSearchCV(xgbcl, param_grid=params, cv=5, scoring=make_scorer(roc_auc_score))\n",
    "\n",
    "xgb_gs.fit(X_train, y_train)"
   ]
  },
  {
   "cell_type": "code",
   "execution_count": 62,
   "metadata": {},
   "outputs": [],
   "source": [
    "pred_GSXGB = xgb_gs.predict(X_test)\n",
    "GS_predictions.append(pred_GSXGB)"
   ]
  },
  {
   "cell_type": "code",
   "execution_count": 63,
   "metadata": {},
   "outputs": [
    {
     "data": {
      "text/plain": [
       "{'max_depth': None, 'n_estimators': 20}"
      ]
     },
     "execution_count": 63,
     "metadata": {},
     "output_type": "execute_result"
    }
   ],
   "source": [
    "xgb_gs.best_params_"
   ]
  },
  {
   "cell_type": "code",
   "execution_count": 64,
   "metadata": {},
   "outputs": [
    {
     "name": "stdout",
     "output_type": "stream",
     "text": [
      "0.455 seconds to run\n"
     ]
    }
   ],
   "source": [
    "start = time()\n",
    "\n",
    "xgb_gs = xgb.XGBClassifier(objective='binary:logistic', max_depth=None, n_estimators=20)\n",
    "\n",
    "xgb_gs.fit(X_train, y_train)\n",
    "\n",
    "stop = time()\n",
    "\n",
    "fit_time_xgb = stop - start\n",
    "\n",
    "print(round(fit_time_xgb, 3), 'seconds to run')"
   ]
  },
  {
   "cell_type": "code",
   "execution_count": 65,
   "metadata": {},
   "outputs": [],
   "source": [
    "GS_times.append(fit_time_xgb)"
   ]
  },
  {
   "cell_type": "code",
   "execution_count": 66,
   "metadata": {},
   "outputs": [
    {
     "name": "stdout",
     "output_type": "stream",
     "text": [
      "Grid search XGB accuracy score = 0.6268\n",
      "Grid search XGB precision score = 0.617\n",
      "Grid search XGB recall score = 0.4767\n",
      "Grid search XGB F1 score = 0.5379\n"
     ]
    }
   ],
   "source": [
    "print('Grid search XGB accuracy score = {}'.format(round(accuracy_score(y_test, pred_GSXGB), 4)))\n",
    "print('Grid search XGB precision score = {}'.format(round(precision_score(y_test, pred_GSXGB), 4)))\n",
    "print('Grid search XGB recall score = {}'.format(round(recall_score(y_test, pred_GSXGB), 4)))\n",
    "print('Grid search XGB F1 score = {}'.format(round(f1_score(y_test, pred_GSXGB), 4)))"
   ]
  },
  {
   "cell_type": "code",
   "execution_count": 67,
   "metadata": {},
   "outputs": [],
   "source": [
    "GS_acc_scores.append((round(accuracy_score(y_test, pred_GSXGB), 4)))"
   ]
  },
  {
   "cell_type": "code",
   "execution_count": 68,
   "metadata": {},
   "outputs": [
    {
     "data": {
      "text/plain": [
       "array([[2048, 1192],\n",
       "       [ 674, 1086]])"
      ]
     },
     "execution_count": 68,
     "metadata": {},
     "output_type": "execute_result"
    }
   ],
   "source": [
    "confusion_matrix(pred_GSXGB, y_test)"
   ]
  },
  {
   "cell_type": "code",
   "execution_count": 69,
   "metadata": {},
   "outputs": [
    {
     "name": "stdout",
     "output_type": "stream",
     "text": [
      "              precision    recall  f1-score   support\n",
      "\n",
      "         0.0       0.63      0.75      0.69      2722\n",
      "         1.0       0.62      0.48      0.54      2278\n",
      "\n",
      "    accuracy                           0.63      5000\n",
      "   macro avg       0.62      0.61      0.61      5000\n",
      "weighted avg       0.63      0.63      0.62      5000\n",
      "\n"
     ]
    }
   ],
   "source": [
    "print(classification_report(y_test, pred_GSXGB))"
   ]
  },
  {
   "cell_type": "code",
   "execution_count": 70,
   "metadata": {},
   "outputs": [],
   "source": [
    "prob_GSXGB = xgb_gs.predict_proba(X_test)\n",
    "GS_pred_probs.append(prob_GSXGB)"
   ]
  },
  {
   "cell_type": "markdown",
   "metadata": {},
   "source": [
    "# Visualizing Models"
   ]
  },
  {
   "cell_type": "code",
   "execution_count": 71,
   "metadata": {},
   "outputs": [],
   "source": [
    "fpr1, tpr1, thresholds1 = roc_curve(y_test, prob_lr[:,1])\n",
    "fpr2, tpr2, thresholds2 = roc_curve(y_test, prob_knn[:,1])\n",
    "fpr3, tpr3, thresholds3 = roc_curve(y_test, prob_rfc[:,1])\n",
    "fpr4, tpr4, thresholds4 = roc_curve(y_test, prob_xgbcl[:,1])\n",
    "fpr5, tpr5, thresholds5 = roc_curve(y_test, prob_GSLR[:,1])\n",
    "fpr6, tpr6, thresholds6 = roc_curve(y_test, prob_GSKNN[:,1])\n",
    "fpr7, tpr7, thresholds7 = roc_curve(y_test, prob_GSRFC[:,1])\n",
    "fpr8, tpr8, thresholds8 = roc_curve(y_test, prob_GSXGB[:,1])"
   ]
  },
  {
   "cell_type": "code",
   "execution_count": 129,
   "metadata": {},
   "outputs": [
    {
     "data": {
      "image/png": "[encoded data removed]",
      "text/plain": [
       "<Figure size 1120x800 with 1 Axes>"
      ]
     },
     "metadata": {},
     "output_type": "display_data"
    }
   ],
   "source": [
    "_ = figure(figsize=(14, 10), dpi=80, facecolor='w', edgecolor='k')\n",
    "_ = plt.plot([0,1], [0,1], 'k--')\n",
    "_ = plt.plot(fpr1, tpr1, label='LR')\n",
    "_ = plt.plot(fpr2, tpr2, label='KNN')\n",
    "_ = plt.plot(fpr3, tpr3, label='RFC')\n",
    "_ = plt.plot(fpr4, tpr4, label='XGB')\n",
    "_ = plt.xlabel('False Positive Rate')\n",
    "_ = plt.ylabel('True Positive Rate')\n",
    "_ = plt.title('ROC Curve')\n",
    "_ = plt.legend()\n",
    "\n",
    "plt.savefig('../figures/ModelROCCurve.png')"
   ]
  },
  {
   "cell_type": "code",
   "execution_count": 130,
   "metadata": {},
   "outputs": [
    {
     "data": {
      "image/png": "[encoded data removed]",
      "text/plain": [
       "<Figure size 1120x800 with 1 Axes>"
      ]
     },
     "metadata": {},
     "output_type": "display_data"
    }
   ],
   "source": [
    "_ = figure(figsize=(14, 10), dpi=80, facecolor='w', edgecolor='k')\n",
    "_ = plt.plot([0,1], [0,1], 'k--')\n",
    "_ = plt.plot(fpr5, tpr5, label='GS LR')\n",
    "_ = plt.plot(fpr6, tpr6, label='GS KNN')\n",
    "_ = plt.plot(fpr7, tpr7, label='GS RFC')\n",
    "_ = plt.plot(fpr8, tpr8, label='GS XGB')\n",
    "_ = plt.xlabel('False Positive Rate')\n",
    "_ = plt.ylabel('True Positive Rate')\n",
    "_ = plt.title('ROC Curve')\n",
    "_ = plt.legend()\n",
    "\n",
    "plt.savefig('../figures/ModelROCCurveFinal.png')"
   ]
  },
  {
   "cell_type": "code",
   "execution_count": 74,
   "metadata": {},
   "outputs": [],
   "source": [
    "auc_preds = [prob_GSLR, prob_GSKNN, prob_GSRFC, prob_GSXGB]"
   ]
  },
  {
   "cell_type": "code",
   "execution_count": 75,
   "metadata": {},
   "outputs": [],
   "source": [
    "auc_scores = []\n",
    "\n",
    "for item in auc_preds:\n",
    "    auc_scores.append(roc_auc_score(y_test, item[:,1]))"
   ]
  },
  {
   "cell_type": "code",
   "execution_count": 86,
   "metadata": {},
   "outputs": [
    {
     "data": {
      "text/html": [
       "<div>\n",
       "<style scoped>\n",
       "    .dataframe tbody tr th:only-of-type {\n",
       "        vertical-align: middle;\n",
       "    }\n",
       "\n",
       "    .dataframe tbody tr th {\n",
       "        vertical-align: top;\n",
       "    }\n",
       "\n",
       "    .dataframe thead th {\n",
       "        text-align: right;\n",
       "    }\n",
       "</style>\n",
       "<table border=\"1\" class=\"dataframe\">\n",
       "  <thead>\n",
       "    <tr style=\"text-align: right;\">\n",
       "      <th></th>\n",
       "      <th>Fit_times</th>\n",
       "      <th>GS_accuracy_scores</th>\n",
       "      <th>AUC_scores</th>\n",
       "    </tr>\n",
       "    <tr>\n",
       "      <th>Labels</th>\n",
       "      <th></th>\n",
       "      <th></th>\n",
       "      <th></th>\n",
       "    </tr>\n",
       "  </thead>\n",
       "  <tbody>\n",
       "    <tr>\n",
       "      <th>RFC</th>\n",
       "      <td>4.106606</td>\n",
       "      <td>0.7734</td>\n",
       "      <td>0.883675</td>\n",
       "    </tr>\n",
       "    <tr>\n",
       "      <th>XGB</th>\n",
       "      <td>0.454879</td>\n",
       "      <td>0.6268</td>\n",
       "      <td>0.668189</td>\n",
       "    </tr>\n",
       "    <tr>\n",
       "      <th>LR</th>\n",
       "      <td>0.558409</td>\n",
       "      <td>0.6146</td>\n",
       "      <td>0.665155</td>\n",
       "    </tr>\n",
       "    <tr>\n",
       "      <th>KNN</th>\n",
       "      <td>0.557119</td>\n",
       "      <td>0.5740</td>\n",
       "      <td>0.586294</td>\n",
       "    </tr>\n",
       "  </tbody>\n",
       "</table>\n",
       "</div>"
      ],
      "text/plain": [
       "        Fit_times  GS_accuracy_scores  AUC_scores\n",
       "Labels                                           \n",
       "RFC      4.106606              0.7734    0.883675\n",
       "XGB      0.454879              0.6268    0.668189\n",
       "LR       0.558409              0.6146    0.665155\n",
       "KNN      0.557119              0.5740    0.586294"
      ]
     },
     "execution_count": 86,
     "metadata": {},
     "output_type": "execute_result"
    }
   ],
   "source": [
    "AUC_df = pd.DataFrame({'Labels':model_names[:-1], 'Fit_times':GS_times, 'GS_accuracy_scores':GS_acc_scores,\n",
    "                       'AUC_scores':auc_scores}).set_index('Labels').sort_values(by='AUC_scores', ascending=False)\n",
    "AUC_df"
   ]
  },
  {
   "cell_type": "code",
   "execution_count": 141,
   "metadata": {},
   "outputs": [
    {
     "data": {
      "text/html": [
       "<div>\n",
       "<style scoped>\n",
       "    .dataframe tbody tr th:only-of-type {\n",
       "        vertical-align: middle;\n",
       "    }\n",
       "\n",
       "    .dataframe tbody tr th {\n",
       "        vertical-align: top;\n",
       "    }\n",
       "\n",
       "    .dataframe thead th {\n",
       "        text-align: right;\n",
       "    }\n",
       "</style>\n",
       "<table border=\"1\" class=\"dataframe\">\n",
       "  <thead>\n",
       "    <tr style=\"text-align: right;\">\n",
       "      <th></th>\n",
       "      <th>Default_accuracy_scores</th>\n",
       "      <th>Fit_times</th>\n",
       "      <th>GS_accuracy_scores</th>\n",
       "      <th>AUC_scores</th>\n",
       "    </tr>\n",
       "    <tr>\n",
       "      <th>Labels</th>\n",
       "      <th></th>\n",
       "      <th></th>\n",
       "      <th></th>\n",
       "      <th></th>\n",
       "    </tr>\n",
       "  </thead>\n",
       "  <tbody>\n",
       "    <tr>\n",
       "      <th>RFC</th>\n",
       "      <td>0.6118</td>\n",
       "      <td>4.106606</td>\n",
       "      <td>0.7734</td>\n",
       "      <td>0.883675</td>\n",
       "    </tr>\n",
       "    <tr>\n",
       "      <th>XGB</th>\n",
       "      <td>0.6202</td>\n",
       "      <td>0.454879</td>\n",
       "      <td>0.6268</td>\n",
       "      <td>0.668189</td>\n",
       "    </tr>\n",
       "    <tr>\n",
       "      <th>LR</th>\n",
       "      <td>0.6152</td>\n",
       "      <td>0.558409</td>\n",
       "      <td>0.6146</td>\n",
       "      <td>0.665155</td>\n",
       "    </tr>\n",
       "    <tr>\n",
       "      <th>KNN</th>\n",
       "      <td>0.5400</td>\n",
       "      <td>0.557119</td>\n",
       "      <td>0.5740</td>\n",
       "      <td>0.586294</td>\n",
       "    </tr>\n",
       "  </tbody>\n",
       "</table>\n",
       "</div>"
      ],
      "text/plain": [
       "        Default_accuracy_scores  Fit_times  GS_accuracy_scores  AUC_scores\n",
       "Labels                                                                    \n",
       "RFC                      0.6118   4.106606              0.7734    0.883675\n",
       "XGB                      0.6202   0.454879              0.6268    0.668189\n",
       "LR                       0.6152   0.558409              0.6146    0.665155\n",
       "KNN                      0.5400   0.557119              0.5740    0.586294"
      ]
     },
     "execution_count": 141,
     "metadata": {},
     "output_type": "execute_result"
    }
   ],
   "source": [
    "final_df = pd.merge(def_accuracy_df, AUC_df, on='Labels').sort_values(by='AUC_scores', ascending=False)\n",
    "final_df"
   ]
  },
  {
   "cell_type": "code",
   "execution_count": 170,
   "metadata": {},
   "outputs": [
    {
     "data": {
      "image/png": "[encoded data removed]",
      "text/plain": [
       "<Figure size 800x560 with 1 Axes>"
      ]
     },
     "metadata": {},
     "output_type": "display_data"
    }
   ],
   "source": [
    "figure(figsize=(10, 7), dpi=80, facecolor='w', edgecolor='k')\n",
    "ax = plt.subplot()\n",
    "_ = plt.bar(final_df.index, final_df['GS_accuracy_scores'], alpha=0.5)\n",
    "_ = plt.bar(def_accuracy_df.index, def_accuracy_df['Default_accuracy_scores'], alpha=0.5)\n",
    "_ = plt.title('Default Model Accuracy Scores')\n",
    "_ = plt.ylabel('Score')\n",
    "_ = plt.xlabel('Models')\n",
    "_ = plt.legend(['GS accuracy', 'Default accuracy'])\n",
    "\n",
    "plt.savefig('../figures/finalaccuracyscores.png')"
   ]
  },
  {
   "cell_type": "markdown",
   "metadata": {},
   "source": [
    "# Model Selection"
   ]
  },
  {
   "cell_type": "code",
   "execution_count": 124,
   "metadata": {},
   "outputs": [],
   "source": [
    "zipped = zip(rfc_gs.feature_importances_, X_test.columns)"
   ]
  },
  {
   "cell_type": "code",
   "execution_count": 125,
   "metadata": {},
   "outputs": [],
   "source": [
    "df_importance = pd.DataFrame(zipped).sort_values(by=0, ascending=False)\n",
    "df_importance.reset_index(inplace=True, drop=True)"
   ]
  },
  {
   "cell_type": "code",
   "execution_count": 127,
   "metadata": {},
   "outputs": [],
   "source": [
    "df_importance.columns = ['Importance', 'Feature']"
   ]
  },
  {
   "cell_type": "code",
   "execution_count": 128,
   "metadata": {},
   "outputs": [
    {
     "data": {
      "text/html": [
       "<div>\n",
       "<style scoped>\n",
       "    .dataframe tbody tr th:only-of-type {\n",
       "        vertical-align: middle;\n",
       "    }\n",
       "\n",
       "    .dataframe tbody tr th {\n",
       "        vertical-align: top;\n",
       "    }\n",
       "\n",
       "    .dataframe thead th {\n",
       "        text-align: right;\n",
       "    }\n",
       "</style>\n",
       "<table border=\"1\" class=\"dataframe\">\n",
       "  <thead>\n",
       "    <tr style=\"text-align: right;\">\n",
       "      <th></th>\n",
       "      <th>Importance</th>\n",
       "      <th>Feature</th>\n",
       "    </tr>\n",
       "  </thead>\n",
       "  <tbody>\n",
       "    <tr>\n",
       "      <th>0</th>\n",
       "      <td>0.149487</td>\n",
       "      <td>number_inpatient</td>\n",
       "    </tr>\n",
       "    <tr>\n",
       "      <th>1</th>\n",
       "      <td>0.090562</td>\n",
       "      <td>num_medications</td>\n",
       "    </tr>\n",
       "    <tr>\n",
       "      <th>2</th>\n",
       "      <td>0.083157</td>\n",
       "      <td>num_lab_procedures</td>\n",
       "    </tr>\n",
       "    <tr>\n",
       "      <th>3</th>\n",
       "      <td>0.057175</td>\n",
       "      <td>number_diagnoses</td>\n",
       "    </tr>\n",
       "    <tr>\n",
       "      <th>4</th>\n",
       "      <td>0.054365</td>\n",
       "      <td>days_in_hospital</td>\n",
       "    </tr>\n",
       "    <tr>\n",
       "      <th>5</th>\n",
       "      <td>0.045655</td>\n",
       "      <td>number_emergency</td>\n",
       "    </tr>\n",
       "    <tr>\n",
       "      <th>6</th>\n",
       "      <td>0.042379</td>\n",
       "      <td>number_outpatient</td>\n",
       "    </tr>\n",
       "    <tr>\n",
       "      <th>7</th>\n",
       "      <td>0.036866</td>\n",
       "      <td>num_procedures</td>\n",
       "    </tr>\n",
       "    <tr>\n",
       "      <th>8</th>\n",
       "      <td>0.015015</td>\n",
       "      <td>Dx1_Heart_Failure</td>\n",
       "    </tr>\n",
       "    <tr>\n",
       "      <th>9</th>\n",
       "      <td>0.013838</td>\n",
       "      <td>paycode_payer_code_MC</td>\n",
       "    </tr>\n",
       "    <tr>\n",
       "      <th>10</th>\n",
       "      <td>0.012966</td>\n",
       "      <td>diabetesMed_Yes</td>\n",
       "    </tr>\n",
       "    <tr>\n",
       "      <th>11</th>\n",
       "      <td>0.012736</td>\n",
       "      <td>change</td>\n",
       "    </tr>\n",
       "    <tr>\n",
       "      <th>12</th>\n",
       "      <td>0.012690</td>\n",
       "      <td>med_metformin</td>\n",
       "    </tr>\n",
       "    <tr>\n",
       "      <th>13</th>\n",
       "      <td>0.012592</td>\n",
       "      <td>gender_Male</td>\n",
       "    </tr>\n",
       "    <tr>\n",
       "      <th>14</th>\n",
       "      <td>0.012172</td>\n",
       "      <td>gender_Female</td>\n",
       "    </tr>\n",
       "  </tbody>\n",
       "</table>\n",
       "</div>"
      ],
      "text/plain": [
       "    Importance                Feature\n",
       "0     0.149487       number_inpatient\n",
       "1     0.090562        num_medications\n",
       "2     0.083157     num_lab_procedures\n",
       "3     0.057175       number_diagnoses\n",
       "4     0.054365       days_in_hospital\n",
       "5     0.045655       number_emergency\n",
       "6     0.042379      number_outpatient\n",
       "7     0.036866         num_procedures\n",
       "8     0.015015      Dx1_Heart_Failure\n",
       "9     0.013838  paycode_payer_code_MC\n",
       "10    0.012966        diabetesMed_Yes\n",
       "11    0.012736                 change\n",
       "12    0.012690          med_metformin\n",
       "13    0.012592            gender_Male\n",
       "14    0.012172          gender_Female"
      ]
     },
     "execution_count": 128,
     "metadata": {},
     "output_type": "execute_result"
    }
   ],
   "source": [
    "df_importance.head(15)"
   ]
  },
  {
   "cell_type": "code",
   "execution_count": 152,
   "metadata": {},
   "outputs": [
    {
     "data": {
      "text/plain": [
       "array([[2048, 1192],\n",
       "       [ 674, 1086]])"
      ]
     },
     "execution_count": 152,
     "metadata": {},
     "output_type": "execute_result"
    }
   ],
   "source": [
    "final_model_cm = confusion_matrix(pred_GSXGB, y_test)\n",
    "final_model_cm"
   ]
  },
  {
   "cell_type": "code",
   "execution_count": 160,
   "metadata": {
    "scrolled": false
   },
   "outputs": [
    {
     "data": {
      "image/png": "[encoded data removed]",
      "text/plain": [
       "<Figure size 720x504 with 2 Axes>"
      ]
     },
     "metadata": {},
     "output_type": "display_data"
    }
   ],
   "source": [
    "plt.figure(figsize=(10,7))\n",
    "sns.set(font_scale=1.4)\n",
    "sns.heatmap(final_model_cm, annot=True, annot_kws={\"size\": 16}, cmap='Blues', fmt='.4g',\n",
    "            xticklabels=['Actual Positive', 'Actual Negative'], \n",
    "            yticklabels=['Predicted Positive', 'Predicted Negative'])\n",
    "\n",
    "plt.savefig('../figures/modelcm.png')"
   ]
  },
  {
   "cell_type": "code",
   "execution_count": null,
   "metadata": {},
   "outputs": [],
   "source": []
  },
  {
   "cell_type": "code",
   "execution_count": null,
   "metadata": {},
   "outputs": [],
   "source": []
  }
 ],
 "metadata": {
  "kernelspec": {
   "display_name": "Python 3",
   "language": "python",
   "name": "python3"
  },
  "language_info": {
   "codemirror_mode": {
    "name": "ipython",
    "version": 3
   },
   "file_extension": ".py",
   "mimetype": "text/x-python",
   "name": "python",
   "nbconvert_exporter": "python",
   "pygments_lexer": "ipython3",
   "version": "3.7.6"
  }
 },
 "nbformat": 4,
 "nbformat_minor": 4
}
